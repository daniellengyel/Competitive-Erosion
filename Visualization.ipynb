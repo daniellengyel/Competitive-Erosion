{
 "cells": [
  {
   "cell_type": "code",
   "execution_count": 3,
   "metadata": {},
   "outputs": [],
   "source": [
    "import matplotlib.pyplot as plt\n",
    "import numpy as np\n",
    "\n",
    "import scipy.stats as stats\n",
    "import math"
   ]
  },
  {
   "cell_type": "code",
   "execution_count": 32,
   "metadata": {},
   "outputs": [
    {
     "data": {
      "text/plain": [
       "(1000,)"
      ]
     },
     "execution_count": 32,
     "metadata": {},
     "output_type": "execute_result"
    }
   ],
   "source": [
    "fluctuations = [128, 127, 128, 127, 127, 126, 127, 128, 128, 128, 127, 129, 128, 127, 127, 128, 130, 129, 129, 129, 128, 129, 129, 129, 128, 128, 127, 127, 128, 127, 128, 128, 128, 128, 128, 129, 127, 128, 128, 127, 128, 126, 129, 127, 130, 129, 129, 130, 129, 130, 129, 128, 130, 129, 129, 129, 129, 128, 128, 127, 127, 127, 125, 126, 128, 128, 127, 128, 128, 127, 127, 126, 127, 127, 126, 128, 128, 129, 127, 128, 128, 128, 128, 128, 128, 129, 127, 128, 128, 127, 129, 129, 129, 130, 128, 128, 129, 128, 128, 127, 128, 126, 126, 127, 127, 128, 128, 127, 128, 127, 128, 128, 129, 130, 129, 129, 128, 128, 128, 128, 126, 127, 127, 127, 128, 127, 128, 127, 128, 128, 127, 128, 126, 126, 128, 126, 127, 128, 127, 127, 126, 129, 128, 128, 128, 127, 127, 129, 128, 127, 129, 128, 126, 128, 128, 127, 127, 128, 128, 127, 128, 128, 129, 129, 129, 129, 128, 128, 126, 126, 127, 127, 127, 127, 128, 129, 129, 128, 128, 128, 129, 128, 127, 127, 128, 126, 127, 128, 128, 127, 129, 129, 128, 128, 129, 126, 129, 129, 128, 128, 127, 126, 128, 128, 127, 126, 129, 127, 129, 128, 128, 130, 128, 129, 128, 128, 127, 128, 128, 129, 129, 127, 128, 128, 127, 127, 128, 127, 127, 127, 128, 127, 127, 127, 128, 127, 127, 126, 126, 127, 128, 127, 128, 129, 129, 128, 129, 128, 127, 128, 127, 128, 127, 127, 128, 127, 129, 128, 129, 128, 129, 127, 128, 128, 128, 128, 127, 127, 127, 129, 127, 128, 128, 130, 129, 129, 129, 128, 129, 129, 129, 128, 129, 129, 130, 129, 129, 129, 129, 128, 129, 128, 128, 127, 128, 129, 127, 128, 127, 128, 127, 129, 126, 127, 126, 127, 127, 129, 128, 127, 128, 127, 128, 129, 128, 128, 128, 129, 128, 128, 127, 129, 129, 128, 129, 129, 127, 129, 127, 129, 129, 128, 128, 128, 128, 129, 129, 130, 127, 129, 128, 127, 128, 128, 128, 128, 128, 129, 129, 127, 128, 127, 129, 128, 127, 128, 128, 129, 129, 128, 128, 126, 127, 128, 127, 126, 126, 126, 126, 126, 126, 128, 128, 126, 127, 127, 129, 127, 129, 128, 128, 129, 127, 127, 127, 128, 129, 127, 128, 127, 127, 129, 128, 128, 128, 128, 128, 130, 128, 130, 128, 129, 127, 130, 130, 128, 127, 128, 127, 128, 129, 128, 128, 129, 127, 129, 127, 127, 128, 127, 127, 125, 128, 127, 128, 128, 129, 128, 127, 127, 128, 128, 127, 128, 128, 127, 128, 129, 128, 128, 128, 127, 129, 128, 128, 129, 129, 129, 128, 129, 127, 128, 128, 130, 127, 127, 129, 127, 130, 131, 129, 129, 130, 129, 130, 129, 129, 128, 129, 126, 129, 127, 128, 127, 128, 128, 128, 129, 128, 127, 127, 128, 130, 130, 129, 127, 127, 128, 128, 128, 128, 128, 129, 126, 129, 130, 128, 128, 127, 127, 127, 126, 127, 128, 127, 128, 127, 129, 127, 128, 127, 128, 128, 129, 128, 128, 128, 129, 128, 129, 127, 129, 129, 128, 128, 127, 126, 128, 128, 129, 128, 127, 127, 127, 127, 128, 127, 128, 127, 128, 130, 129, 129, 128, 127, 129, 127, 129, 127, 129, 128, 128, 129, 127, 128, 128, 128, 129, 128, 126, 128, 129, 129, 126, 127, 128, 128, 128, 128, 129, 130, 129, 128, 127, 127, 128, 128, 128, 129, 127, 128, 129, 129, 127, 125, 128, 128, 127, 126, 128, 128, 126, 128, 128, 129, 128, 129, 128, 128, 128, 128, 127, 129, 129, 127, 128, 128, 127, 128, 128, 128, 130, 127, 128, 129, 128, 127, 127, 129, 129, 129, 129, 129, 128, 129, 128, 129, 129, 128, 128, 130, 129, 128, 128, 128, 128, 128, 128, 127, 128, 128, 127, 128, 128, 128, 129, 127, 126, 128, 126, 126, 127, 127, 128, 128, 129, 128, 127, 127, 128, 127, 130, 129, 128, 127, 128, 128, 129, 129, 128, 129, 128, 130, 127, 129, 130, 128, 129, 128, 129, 128, 129, 126, 129, 129, 128, 128, 127, 127, 128, 128, 126, 127, 126, 130, 129, 130, 128, 128, 126, 129, 127, 129, 127, 129, 129, 129, 128, 127, 130, 127, 128, 128, 129, 127, 129, 128, 129, 129, 128, 128, 128, 127, 127, 128, 129, 129, 128, 128, 127, 127, 128, 129, 127, 129, 128, 127, 128, 128, 128, 129, 129, 130, 129, 128, 128, 129, 129, 128, 127, 128, 127, 128, 128, 130, 128, 128, 128, 127, 127, 129, 126, 129, 129, 128, 128, 128, 129, 127, 127, 128, 128, 127, 127, 128, 129, 128, 126, 128, 129, 129, 128, 128, 128, 128, 128, 129, 127, 129, 128, 127, 127, 126, 127, 128, 128, 128, 127, 128, 129, 127, 128, 128, 128, 128, 128, 128, 127, 127, 127, 127, 128, 127, 128, 129, 128, 128, 128, 127, 129, 129, 127, 128, 127, 128, 128, 129, 128, 128, 128, 128, 129, 129, 127, 128, 127, 127, 127, 130, 128, 127, 128, 128, 128, 129, 128, 128, 127, 127, 129, 128, 130, 129, 128, 130, 128, 128, 130, 128, 129, 128, 128, 128, 128, 128, 128, 129, 129, 129, 129, 128, 127, 128, 128, 128, 129, 127, 128, 129, 129, 129, 128, 129, 129, 128, 127, 127, 129, 129, 129, 128, 127, 128, 129, 128, 129, 128, 130, 128, 127, 128, 127, 130, 129, 128, 126, 127, 127, 126, 127, 127, 126, 126, 128, 128, 127, 128, 128, 128, 128, 128, 128, 128, 128, 127, 128, 126, 126, 128, 128, 130, 127, 129, 127, 129, 128, 129, 128, 128, 127, 130, 129, 129, 129, 129, 128, 129, 129, 127, 128, 128, 129, 129, 128, 128, 129, 130, 128, 128, 129, 128, 128, 127, 130, 127, 127, 128, 128, 128, 128, 129, 129, 127, 128, 127, 128, 128, 127, 127, 129, 129, 129, 129, 130, 128, 129, 128, 129, 128, 128, 128, 130, 128, 128, 129, 128, 129, 130, 129, 129, \n",
    "]\n",
    "fluctuations = np.array(fluctuations)\n",
    "unique, counts = np.unique(fluctuations, return_counts=True)\n",
    "fluctuations.shape\n",
    "\n"
   ]
  },
  {
   "cell_type": "code",
   "execution_count": 33,
   "metadata": {},
   "outputs": [
    {
     "data": {
      "text/plain": [
       "(1000,)"
      ]
     },
     "execution_count": 33,
     "metadata": {},
     "output_type": "execute_result"
    }
   ],
   "source": [
    "fluctuations = [64, 65, 64, 64, 65, 64, 64, 64, 65, 64, 64, 64, 64, 64, 65, 64, 64, 65, 63, 64, 63, 64, 64, 64, 64, 63, 64, 63, 64, 64, 64, 64, 64, 64, 64, 64, 63, 63, 62, 63, 63, 63, 64, 63, 62, 63, 62, 62, 63, 63, 63, 63, 64, 63, 62, 63, 62, 63, 63, 62, 63, 63, 62, 62, 63, 63, 63, 64, 64, 63, 62, 63, 64, 64, 63, 64, 64, 64, 64, 64, 65, 65, 64, 64, 64, 64, 65, 64, 64, 63, 64, 64, 64, 63, 64, 63, 65, 64, 65, 65, 64, 64, 65, 65, 66, 64, 64, 66, 65, 63, 63, 65, 64, 65, 64, 65, 65, 64, 65, 66, 65, 65, 64, 64, 64, 65, 64, 64, 64, 63, 63, 63, 64, 64, 66, 66, 65, 65, 63, 65, 64, 65, 65, 64, 64, 64, 64, 65, 65, 64, 65, 65, 64, 63, 63, 65, 65, 65, 65, 64, 65, 64, 63, 63, 64, 63, 63, 63, 64, 64, 64, 63, 64, 64, 63, 64, 63, 63, 63, 63, 64, 64, 65, 65, 65, 65, 64, 63, 63, 64, 64, 64, 63, 63, 63, 63, 63, 63, 63, 63, 64, 63, 63, 63, 62, 63, 63, 64, 64, 64, 64, 64, 65, 65, 64, 64, 63, 63, 64, 62, 63, 64, 64, 64, 63, 64, 65, 65, 65, 65, 65, 65, 65, 66, 65, 64, 63, 64, 66, 64, 64, 64, 63, 62, 63, 63, 64, 64, 64, 66, 65, 65, 65, 64, 64, 65, 64, 64, 64, 64, 63, 65, 64, 65, 65, 65, 64, 64, 64, 64, 65, 65, 64, 64, 64, 64, 64, 64, 65, 65, 64, 64, 65, 65, 65, 64, 64, 63, 64, 64, 65, 64, 64, 64, 64, 66, 65, 66, 66, 66, 65, 65, 65, 65, 65, 63, 64, 65, 64, 63, 64, 63, 64, 63, 64, 64, 64, 64, 64, 64, 63, 63, 64, 62, 63, 64, 65, 65, 63, 65, 66, 66, 65, 65, 65, 64, 64, 63, 63, 63, 63, 64, 64, 64, 65, 65, 64, 64, 62, 64, 64, 65, 63, 64, 63, 64, 64, 63, 63, 63, 63, 63, 63, 63, 64, 63, 63, 63, 64, 64, 64, 65, 63, 63, 63, 63, 64, 64, 64, 63, 62, 64, 64, 65, 66, 65, 65, 64, 65, 65, 64, 65, 66, 66, 66, 65, 65, 65, 64, 64, 64, 64, 64, 63, 64, 64, 65, 65, 65, 65, 64, 64, 64, 64, 64, 63, 63, 64, 63, 64, 65, 64, 64, 64, 63, 65, 63, 62, 63, 63, 64, 65, 65, 65, 65, 63, 63, 64, 65, 65, 64, 64, 64, 65, 64, 64, 64, 64, 65, 65, 65, 65, 65, 65, 63, 65, 65, 64, 64, 65, 65, 65, 64, 65, 64, 65, 65, 65, 65, 65, 64, 66, 64, 64, 64, 64, 65, 64, 65, 64, 64, 62, 62, 63, 63, 65, 63, 63, 63, 63, 63, 63, 63, 63, 63, 63, 64, 63, 64, 65, 64, 63, 65, 65, 64, 64, 64, 63, 63, 62, 63, 64, 65, 64, 62, 64, 63, 63, 64, 64, 64, 64, 64, 64, 63, 63, 63, 63, 63, 65, 64, 64, 63, 63, 63, 65, 64, 64, 64, 63, 64, 64, 65, 63, 64, 65, 62, 64, 64, 64, 63, 63, 63, 64, 64, 64, 65, 63, 64, 64, 64, 63, 64, 63, 64, 63, 63, 63, 63, 64, 63, 63, 64, 63, 64, 65, 64, 64, 63, 63, 64, 64, 64, 64, 63, 65, 64, 65, 64, 64, 64, 64, 65, 65, 64, 63, 63, 62, 63, 64, 65, 65, 66, 64, 67, 65, 65, 65, 65, 65, 65, 65, 65, 64, 64, 65, 65, 65, 65, 64, 65, 65, 64, 65, 65, 65, 65, 65, 63, 64, 64, 63, 64, 64, 64, 64, 64, 63, 64, 65, 64, 64, 64, 64, 65, 64, 65, 63, 63, 63, 63, 63, 63, 63, 63, 64, 63, 62, 64, 64, 63, 63, 62, 62, 63, 63, 63, 65, 64, 64, 64, 64, 64, 65, 64, 65, 64, 64, 65, 62, 64, 64, 62, 62, 64, 62, 64, 65, 65, 65, 64, 66, 66, 65, 65, 65, 64, 67, 63, 64, 64, 64, 63, 63, 63, 64, 64, 65, 65, 64, 65, 64, 63, 63, 63, 63, 65, 64, 63, 64, 63, 63, 63, 64, 63, 64, 64, 64, 63, 64, 64, 64, 64, 63, 63, 64, 63, 63, 63, 63, 64, 65, 63, 64, 65, 64, 66, 65, 65, 65, 65, 65, 65, 64, 64, 65, 64, 65, 64, 64, 63, 62, 64, 64, 63, 63, 62, 63, 63, 63, 63, 62, 63, 64, 65, 64, 64, 64, 64, 65, 65, 64, 65, 64, 63, 64, 64, 63, 63, 65, 65, 63, 63, 63, 63, 63, 63, 63, 63, 63, 62, 62, 62, 64, 62, 63, 62, 63, 63, 64, 63, 64, 65, 63, 63, 62, 63, 62, 62, 63, 64, 63, 64, 63, 63, 65, 63, 64, 64, 64, 65, 64, 64, 62, 64, 64, 64, 64, 66, 66, 65, 65, 64, 64, 64, 65, 65, 64, 64, 65, 64, 64, 63, 63, 63, 65, 65, 65, 65, 63, 64, 65, 66, 65, 64, 65, 64, 64, 63, 64, 64, 65, 65, 63, 65, 64, 64, 65, 65, 65, 65, 63, 62, 63, 63, 62, 62, 62, 64, 63, 64, 64, 64, 64, 64, 65, 65, 66, 66, 66, 65, 65, 64, 65, 65, 64, 63, 65, 65, 64, 63, 64, 64, 64, 64, 65, 64, 64, 65, 64, 63, 64, 64, 64, 64, 64, 65, 64, 63, 63, 63, 64, 63, 64, 64, 63, 65, 64, 65, 65, 64, 64, 63, 63, 65, 66, 66, 66, 65, 64, 65, 64, 64, 64, 64, 66, 66, 64, 65, 65, 65, 65, 64, 64, 65, 65, 64, 63, 64, 64, 64, 64, 64, 64, 64, 65, 65, 63, 63, 63, 64, 64, 64, 64, 64, 62, 63, 62, 64, 63, 64, 63, 63, 63, 65, 65, 63, 63, 63, 63, \n",
    "]\n",
    "fluctuations = np.array(fluctuations)\n",
    "unique, counts = np.unique(fluctuations, return_counts=True)\n",
    "fluctuations.shape\n",
    "\n"
   ]
  },
  {
   "cell_type": "code",
   "execution_count": 34,
   "metadata": {},
   "outputs": [
    {
     "data": {
      "text/plain": [
       "(200,)"
      ]
     },
     "execution_count": 34,
     "metadata": {},
     "output_type": "execute_result"
    }
   ],
   "source": [
    "fluctuations = [256, 256, 257, 256, 256, 256, 256, 256, 257, 257, 256, 257, 255, 256, 254, 256, 255, 255, 256, 255, 257, 255, 256, 256, 257, 256, 257, 255, 256, 257, 256, 256, 257, 256, 256, 256, 256, 256, 256, 256, 256, 255, 258, 257, 256, 257, 256, 256, 256, 257, 257, 258, 256, 256, 255, 256, 255, 255, 256, 256, 258, 255, 258, 255, 256, 255, 256, 255, 257, 256, 256, 256, 256, 256, 256, 256, 257, 257, 257, 256, 256, 257, 255, 257, 256, 255, 255, 255, 257, 256, 255, 257, 256, 256, 256, 258, 256, 256, 257, 259, 256, 256, 255, 256, 256, 254, 254, 257, 256, 256, 257, 257, 256, 256, 257, 258, 257, 256, 256, 257, 256, 256, 257, 256, 254, 255, 254, 257, 257, 255, 257, 255, 256, 257, 256, 255, 257, 257, 256, 256, 257, 256, 257, 257, 257, 258, 256, 256, 256, 256, 256, 257, 257, 256, 255, 257, 257, 258, 256, 257, 256, 257, 256, 257, 256, 256, 256, 255, 257, 258, 256, 257, 255, 256, 256, 256, 257, 255, 256, 255, 255, 255, 255, 256, 256, 255, 258, 258, 255, 256, 257, 256, 255, 254, 255, 255, 255, 256, 255, 255, \n",
    "]\n",
    "\n",
    "fluctuations = np.array(fluctuations)\n",
    "unique, counts = np.unique(fluctuations, return_counts=True)\n",
    "fluctuations.shape\n"
   ]
  },
  {
   "cell_type": "code",
   "execution_count": 22,
   "metadata": {},
   "outputs": [
    {
     "data": {
      "text/plain": [
       "(1000,)"
      ]
     },
     "execution_count": 22,
     "metadata": {},
     "output_type": "execute_result"
    }
   ],
   "source": [
    "fluctuations = [63, 63, 63, 63, 63, 63, 64, 66, 64, 65, 66, 64, 67, 63, 66, 65, 66, 64, 64, 64, 65, 64, 65, 65, 64, 65, 63, 63, 65, 64, 65, 65, 65, 63, 64, 65, 64, 65, 67, 64, 64, 65, 64, 64, 64, 65, 64, 64, 66, 64, 64, 63, 64, 64, 63, 63, 64, 63, 61, 61, 63, 63, 65, 65, 64, 64, 65, 62, 64, 63, 64, 65, 65, 64, 64, 64, 64, 62, 66, 64, 66, 66, 64, 63, 64, 64, 64, 63, 62, 63, 64, 64, 65, 65, 65, 66, 63, 63, 62, 65, 63, 62, 64, 63, 65, 64, 66, 67, 65, 65, 67, 67, 65, 66, 65, 63, 63, 64, 64, 65, 64, 62, 63, 66, 62, 65, 63, 65, 66, 63, 64, 62, 62, 63, 61, 62, 62, 63, 62, 64, 65, 65, 65, 64, 65, 63, 65, 64, 63, 64, 65, 67, 65, 65, 65, 63, 64, 62, 61, 64, 63, 62, 62, 63, 63, 64, 62, 65, 61, 61, 62, 64, 63, 63, 64, 66, 68, 65, 64, 64, 62, 66, 65, 64, 66, 64, 65, 63, 63, 64, 64, 66, 65, 63, 64, 64, 64, 65, 66, 66, 66, 65, 63, 65, 65, 63, 64, 63, 64, 64, 64, 64, 65, 64, 62, 63, 64, 63, 65, 64, 65, 66, 65, 64, 65, 64, 66, 65, 65, 65, 65, 66, 67, 66, 66, 67, 66, 66, 66, 66, 64, 65, 65, 66, 65, 65, 65, 64, 63, 63, 64, 64, 62, 63, 64, 64, 64, 63, 62, 63, 62, 60, 65, 61, 64, 64, 64, 62, 64, 63, 64, 64, 63, 64, 62, 63, 64, 64, 63, 64, 64, 63, 62, 63, 64, 63, 63, 62, 63, 62, 63, 61, 62, 62, 63, 63, 63, 63, 63, 63, 64, 62, 63, 63, 64, 64, 64, 66, 63, 63, 64, 64, 64, 63, 62, 64, 64, 64, 65, 64, 63, 65, 64, 63, 65, 65, 67, 63, 63, 63, 64, 63, 64, 63, 64, 64, 63, 64, 64, 63, 66, 66, 65, 65, 64, 65, 67, 65, 65, 64, 64, 65, 63, 65, 65, 65, 62, 65, 63, 63, 63, 65, 66, 64, 65, 64, 64, 63, 63, 63, 65, 64, 65, 63, 64, 63, 64, 65, 64, 64, 65, 65, 63, 65, 63, 65, 64, 64, 64, 64, 62, 64, 65, 64, 63, 64, 63, 64, 64, 65, 66, 65, 64, 64, 66, 66, 64, 65, 64, 63, 63, 62, 64, 65, 62, 64, 64, 65, 66, 65, 63, 65, 63, 63, 62, 63, 64, 62, 64, 63, 63, 63, 64, 62, 63, 64, 64, 64, 62, 63, 63, 63, 63, 64, 63, 64, 65, 66, 65, 66, 63, 64, 65, 63, 62, 62, 61, 62, 61, 60, 61, 61, 62, 62, 64, 64, 63, 65, 66, 66, 65, 63, 64, 66, 65, 64, 66, 66, 65, 64, 66, 63, 63, 64, 65, 66, 64, 64, 65, 65, 64, 64, 64, 65, 62, 64, 64, 64, 65, 65, 66, 64, 65, 63, 62, 66, 65, 64, 64, 64, 64, 65, 66, 64, 65, 62, 64, 65, 65, 66, 66, 65, 65, 66, 65, 64, 65, 63, 65, 63, 63, 66, 65, 62, 64, 64, 64, 64, 64, 63, 64, 64, 67, 65, 65, 63, 64, 64, 66, 66, 63, 64, 65, 66, 65, 64, 67, 67, 67, 66, 66, 66, 67, 67, 66, 66, 67, 66, 67, 68, 66, 67, 65, 65, 66, 65, 65, 64, 65, 66, 66, 64, 65, 65, 65, 66, 65, 64, 62, 64, 63, 64, 63, 63, 65, 65, 64, 64, 63, 62, 63, 62, 64, 65, 63, 62, 63, 63, 63, 64, 63, 62, 63, 63, 63, 63, 64, 65, 63, 62, 62, 62, 64, 63, 62, 63, 64, 65, 64, 63, 63, 65, 63, 65, 64, 63, 63, 64, 64, 65, 62, 62, 64, 64, 64, 65, 67, 66, 64, 65, 63, 65, 64, 62, 64, 66, 62, 64, 65, 65, 64, 64, 65, 64, 65, 65, 65, 63, 65, 64, 63, 64, 63, 65, 64, 64, 64, 65, 62, 63, 65, 64, 62, 64, 63, 62, 63, 63, 63, 63, 62, 64, 62, 65, 65, 65, 63, 63, 63, 62, 61, 63, 61, 63, 63, 60, 62, 63, 64, 64, 63, 63, 63, 61, 63, 63, 63, 63, 65, 65, 64, 65, 65, 64, 64, 63, 64, 65, 63, 61, 62, 63, 64, 64, 63, 62, 63, 63, 60, 62, 63, 65, 64, 63, 67, 64, 65, 66, 64, 63, 65, 64, 65, 63, 64, 64, 64, 62, 63, 64, 65, 63, 64, 63, 64, 65, 64, 61, 63, 65, 64, 64, 65, 63, 64, 64, 65, 64, 63, 63, 64, 65, 63, 63, 64, 64, 63, 65, 66, 65, 65, 65, 64, 64, 64, 65, 62, 63, 64, 63, 65, 66, 66, 65, 63, 63, 65, 65, 65, 66, 63, 65, 63, 65, 62, 63, 65, 65, 64, 65, 63, 64, 64, 64, 63, 62, 65, 62, 64, 66, 64, 64, 63, 63, 62, 63, 63, 65, 63, 65, 64, 65, 64, 66, 65, 64, 64, 64, 66, 64, 64, 62, 63, 62, 62, 64, 65, 64, 65, 65, 62, 64, 64, 61, 63, 63, 64, 64, 62, 63, 63, 62, 62, 62, 62, 62, 63, 60, 62, 63, 65, 65, 64, 64, 63, 64, 64, 65, 64, 64, 65, 64, 67, 65, 65, 65, 64, 65, 64, 64, 65, 64, 66, 66, 67, 66, 66, 66, 66, 64, 64, 64, 63, 62, 63, 61, 63, 63, 64, 64, 64, 64, 63, 62, 64, 62, 64, 65, 64, 63, 63, 63, 62, 64, 62, 63, 64, 64, 63, 64, 63, 64, 64, 63, 63, 63, 60, 63, 61, 62, 64, 62, 63, 66, 63, 63, 63, 62, 65, 65, 62, 64, 64, 64, 63, 63, 65, 63, 64, 64, 64, 64, 63, 66, 64, 64, 63, 64, 64, 64, 62, 64, 61, 60, 61, 62, 63, 63, 63, 63, 63, 63, 62, 63, 65, 63, 62, 62, 64, 63, \n",
    "]\n",
    "fluctuations = np.array(fluctuations)\n",
    "unique, counts = np.unique(fluctuations, return_counts=True)\n",
    "fluctuations.shape"
   ]
  },
  {
   "cell_type": "code",
   "execution_count": 159,
   "metadata": {},
   "outputs": [
    {
     "data": {
      "text/plain": [
       "(500,)"
      ]
     },
     "execution_count": 159,
     "metadata": {},
     "output_type": "execute_result"
    }
   ],
   "source": [
    "fluctuations = [256, 253, 255, 257, 256, 257, 255, 256, 253, 257, 254, 253, 252, 253, 249, 253, 253, 255, 254, 252, 252, 251, 254, 256, 254, 254, 255, 253, 256, 254, 256, 257, 257, 255, 258, 257, 255, 256, 256, 258, 257, 257, 257, 258, 257, 257, 256, 256, 253, 255, 256, 253, 254, 255, 255, 257, 254, 254, 258, 257, 255, 258, 258, 259, 259, 258, 255, 256, 260, 260, 255, 257, 256, 254, 253, 255, 254, 256, 257, 256, 255, 256, 255, 256, 256, 257, 257, 258, 254, 258, 257, 258, 255, 257, 258, 256, 257, 254, 251, 253, 257, 255, 257, 258, 259, 257, 257, 253, 254, 254, 256, 254, 254, 254, 256, 255, 256, 252, 252, 253, 252, 255, 254, 254, 254, 252, 253, 257, 252, 254, 252, 254, 256, 253, 256, 257, 256, 255, 253, 256, 257, 257, 258, 255, 256, 254, 254, 255, 255, 258, 257, 257, 257, 260, 257, 256, 256, 254, 258, 256, 255, 258, 257, 255, 257, 258, 255, 257, 256, 256, 255, 257, 257, 258, 259, 256, 261, 258, 255, 257, 260, 258, 257, 258, 263, 261, 257, 260, 260, 256, 255, 257, 258, 259, 261, 255, 256, 256, 253, 254, 254, 257, 254, 255, 253, 254, 258, 256, 254, 256, 257, 257, 259, 257, 258, 255, 254, 255, 256, 256, 259, 258, 255, 255, 255, 258, 256, 255, 257, 257, 258, 261, 260, 257, 258, 257, 254, 257, 255, 256, 259, 257, 258, 260, 255, 254, 257, 256, 259, 255, 254, 255, 256, 255, 256, 259, 256, 256, 257, 258, 256, 258, 260, 257, 255, 252, 255, 258, 256, 255, 255, 254, 255, 255, 254, 254, 254, 257, 254, 255, 256, 257, 256, 255, 255, 255, 254, 252, 257, 255, 251, 254, 256, 260, 256, 255, 260, 258, 257, 257, 255, 256, 257, 254, 257, 254, 255, 256, 258, 253, 254, 254, 255, 257, 253, 251, 254, 254, 255, 255, 258, 256, 257, 257, 256, 255, 255, 256, 254, 253, 254, 256, 256, 257, 254, 255, 256, 255, 255, 256, 252, 255, 252, 258, 253, 257, 255, 256, 254, 257, 257, 255, 255, 254, 258, 256, 252, 256, 256, 256, 256, 256, 258, 258, 260, 258, 257, 259, 260, 256, 259, 258, 259, 257, 254, 254, 254, 256, 257, 255, 254, 255, 256, 253, 253, 251, 255, 255, 255, 256, 258, 259, 256, 257, 257, 253, 254, 256, 256, 256, 256, 254, 255, 253, 257, 255, 256, 254, 258, 258, 255, 254, 256, 255, 253, 255, 257, 254, 254, 256, 258, 259, 260, 254, 255, 256, 257, 255, 257, 256, 255, 254, 251, 254, 258, 260, 257, 256, 256, 255, 255, 257, 259, 257, 256, 257, 257, 259, 258, 253, 253, 256, 256, 255, 253, 256, 253, 258, 257, 257, 256, 255, 257, 255, 256, 254, 259, 254, 254, 255, 257, 259, 258, 258, 256, 256, 258, 255, 253, 252, 255, 255, 258, 259, 256, 257, 257, 258, 257, 256, 256, 256, 257, 257, 253, 257, 254, 254, 254, 256, \n",
    "]\n",
    "fluctuations = np.array(fluctuations)\n",
    "unique, counts = np.unique(fluctuations, return_counts=True)\n",
    "fluctuations.shape"
   ]
  },
  {
   "cell_type": "code",
   "execution_count": 160,
   "metadata": {},
   "outputs": [],
   "source": [
    "mu = np.mean(fluctuations)\n",
    "sigma = np.sqrt(np.var(fluctuations))"
   ]
  },
  {
   "cell_type": "code",
   "execution_count": 161,
   "metadata": {},
   "outputs": [
    {
     "data": {
      "text/plain": [
       "NormaltestResult(statistic=1.5311102167272537, pvalue=0.46507569189931663)"
      ]
     },
     "execution_count": 161,
     "metadata": {},
     "output_type": "execute_result"
    }
   ],
   "source": [
    "mom = [stats.moment(fluctuations, i) for i in range(2, 10)]\n",
    "\n",
    "stats.normaltest(fluctuations)"
   ]
  },
  {
   "cell_type": "code",
   "execution_count": 162,
   "metadata": {},
   "outputs": [
    {
     "data": {
      "text/plain": [
       "3.9450999999999996"
      ]
     },
     "execution_count": 162,
     "metadata": {},
     "output_type": "execute_result"
    }
   ],
   "source": [
    "sigma**2"
   ]
  },
  {
   "cell_type": "code",
   "execution_count": 163,
   "metadata": {},
   "outputs": [
    {
     "data": {
      "text/plain": [
       "(array([ 1.,  0.,  6., 15., 33., 72., 90., 98., 92., 53., 20., 15.,  4.,\n",
       "         1.]),\n",
       " array([249, 250, 251, 252, 253, 254, 255, 256, 257, 258, 259, 260, 261,\n",
       "        262, 263]),\n",
       " <a list of 14 Patch objects>)"
      ]
     },
     "execution_count": 163,
     "metadata": {},
     "output_type": "execute_result"
    },
    {
     "data": {
      "image/png": "[encoded data removed]",
      "text/plain": [
       "<Figure size 432x288 with 1 Axes>"
      ]
     },
     "metadata": {
      "needs_background": "light"
     },
     "output_type": "display_data"
    }
   ],
   "source": [
    "plt.xlabel('The first Red node from bottom for x=0')\n",
    "plt.ylabel('num')\n",
    "\n",
    "x = np.linspace(mu - 3*sigma, mu + 3*sigma, 100)\n",
    "y = stats.norm.pdf(x, mu, sigma)\n",
    "y *= max(counts)/max(y)\n",
    "\n",
    "plt.plot(x, y)\n",
    "\n",
    "plt.hist(fluctuations, bins=list(range(min(fluctuations), max(fluctuations) + 1)), align=\"left\", rwidth=0.9)"
   ]
  },
  {
   "cell_type": "code",
   "execution_count": 54,
   "metadata": {},
   "outputs": [],
   "source": [
    "plt.show()"
   ]
  },
  {
   "cell_type": "code",
   "execution_count": 24,
   "metadata": {},
   "outputs": [
    {
     "data": {
      "text/plain": [
       "(1000,)"
      ]
     },
     "execution_count": 24,
     "metadata": {},
     "output_type": "execute_result"
    }
   ],
   "source": [
    "fluctuations.shape"
   ]
  },
  {
   "cell_type": "code",
   "execution_count": 14,
   "metadata": {},
   "outputs": [
    {
     "data": {
      "text/plain": [
       "1000.0"
      ]
     },
     "execution_count": 14,
     "metadata": {},
     "output_type": "execute_result"
    }
   ],
   "source": [
    "1000000/1000"
   ]
  },
  {
   "cell_type": "code",
   "execution_count": 35,
   "metadata": {},
   "outputs": [
    {
     "data": {
      "text/plain": [
       "1000000"
      ]
     },
     "execution_count": 35,
     "metadata": {},
     "output_type": "execute_result"
    }
   ],
   "source": [
    "200*5000"
   ]
  },
  {
   "cell_type": "code",
   "execution_count": 38,
   "metadata": {},
   "outputs": [],
   "source": [
    "# 1000, 1000\n",
    "corr1 = [1.754, 1.334, 1.162, 1.084, 0.966, 0.926, 0.902, 0.842, 0.813, 0.706, 0.63, 0.539, 0.489, 0.476, 0.455, 0.336, 0.298, 0.214, 0.172, 0.194, 0.125, 0.085, 0.012, 0.015, -0.023, -0.062, -0.081, -0.141, -0.165, -0.197, -0.234, -0.287, -0.274, -0.307, -0.349, -0.363, -0.437, -0.461, -0.437, -0.457, -0.501, -0.532, -0.491, -0.477, -0.477, -0.527, -0.545, -0.543, -0.588, -0.561, -0.61, -0.606, -0.682, -0.627, -0.624, -0.625, -0.636, -0.702, -0.65, -0.682, -0.631, -0.676, -0.652, -0.573, -0.616, -0.585, -0.56, -0.593, -0.576, -0.559, -0.546, -0.578, -0.546, -0.533, -0.507, -0.528, -0.492, -0.504, -0.482, -0.393, -0.408, -0.359, -0.343, -0.321, -0.345, -0.265, -0.275, -0.247, -0.218, -0.193, -0.172, -0.169, -0.195, -0.153, -0.13, -0.132, -0.025, 0.012, 0.029, 0.006, 0.038, 0.076, 0.151, 0.15, 0.215, 0.206, 0.275, 0.247, 0.304, 0.393, 0.434, 0.471, 0.508, 0.519, 0.595, 0.667, 0.713, 0.643, 0.739, 0.763, 0.882, 0.873, 0.93, 1.002, 1.103, 1.164, 1.209, 1.343, \n",
    "]\n",
    "corr1 = np.array(corr1)\n"
   ]
  },
  {
   "cell_type": "code",
   "execution_count": 39,
   "metadata": {},
   "outputs": [],
   "source": [
    "# 1000, 10000\n",
    "corr2 = [1.685, 1.28, 1.212, 1.12, 1.079, 1.011, 0.921, 0.86, 0.779, 0.652, 0.631, 0.546, 0.588, 0.541, 0.465, 0.419, 0.444, 0.447, 0.367, 0.363, 0.313, 0.234, 0.237, 0.129, 0.122, 0.089, 0.066, 0.074, -0.031, -0.081, -0.132, -0.129, -0.131, -0.182, -0.186, -0.269, -0.319, -0.248, -0.27, -0.319, -0.366, -0.409, -0.396, -0.421, -0.413, -0.47, -0.433, -0.475, -0.479, -0.545, -0.585, -0.546, -0.583, -0.544, -0.583, -0.561, -0.647, -0.671, -0.653, -0.653, -0.704, -0.715, -0.644, -0.717, -0.68, -0.66, -0.682, -0.702, -0.694, -0.699, -0.68, -0.621, -0.62, -0.604, -0.613, -0.551, -0.56, -0.51, -0.519, -0.525, -0.495, -0.52, -0.502, -0.416, -0.353, -0.393, -0.353, -0.329, -0.359, -0.317, -0.324, -0.334, -0.256, -0.246, -0.245, -0.191, -0.197, -0.145, -0.146, -0.139, -0.126, -0.121, -0.045, -0.023, 0.08, 0.085, 0.161, 0.238, 0.253, 0.321, 0.358, 0.418, 0.47, 0.539, 0.587, 0.629, 0.634, 0.684, 0.799, 0.828, 0.883, 0.967, 0.933, 1.003, 1.062, 1.112, 1.198, 1.231, \n",
    "]\n",
    "corr2 = np.array(corr2)"
   ]
  },
  {
   "cell_type": "code",
   "execution_count": 143,
   "metadata": {},
   "outputs": [],
   "source": [
    "corr4 = [4.05, 3.46, 3.33, 3.45, 3.07, 2.95, 2.98, 2.8, 2.88, 2.92, 2.88, 2.59, 2.57, 2.51, 2.76, 2.55, 2.65, 2.58, 2.47, 2.18, 2.47, 2.4, 2.41, 2.43, 2.2, 2.34, 2.28, 2.38, 1.98, 1.98, 1.99, 2.18, 1.98, 1.97, 2.05, 1.91, 1.88, 1.43, 1.76, 1.76, 1.71, 1.75, 1.53, 1.31, 1.21, 1.29, 1.38, 1.36, 1.27, 1.1, 1.19, 1.22, 1.34, 1.23, 1.18, 1.04, 1.1, 1.17, 1.02, 0.78, 1.23, 1.07, 1.2, 1.3, 0.93, 0.89, 1.22, 0.82, 1.1, 1.11, 1.14, 1.14, 0.89, 1.1, 0.94, 0.72, 0.53, 0.69, 0.74, 1.04, 0.87, 1.03, 0.77, 0.8, 1.15, 1.02, 0.97, 1.17, 0.83, 0.76, 0.88, 0.91, 1.02, 0.92, 0.71, 0.85, 0.68, 0.52, 0.51, 0.88, 0.37, 0.65, 0.71, 0.47, 0.4, 0.49, 0.36, 0.73, 0.62, 0.53, 0.36, 0.49, 0.5, 0.71, 0.64, 0.38, 0.28, 0.6, 0.62, 0.45, 0.54, 0.64, 0.3, 0.25, 0.31, 0.56, 0.29, 0.4, 0.62, 0.43, 0.39, 0.3, 0.41, 0.26, 0.28, 0.02, -0.01, -0.01, -0.21, 0.2, -0.17, -0.2, -0.4, -0.21, -0.27, -0.23, -0.39, -0.52, -0.45, -0.27, -0.53, -0.38, -0.48, -0.47, -0.22, -0.34, -0.22, -0.31, -0.53, -0.54, -0.56, -0.59, -0.75, -0.59, -0.74, -0.61, -0.63, -0.51, -0.24, -0.65, -0.26, -0.32, -0.25, -0.29, -0.41, -0.53, -0.55, -0.38, -0.54, -0.4, -0.36, -0.39, -0.15, -0.38, -0.42, -0.76, -0.61, -0.22, -0.37, -0.03, -0.01, -0.16, -0.12, -0.21, -0.33, -0.27, -0.67, -0.45, -0.2, -0.19, -0.25, -0.24, -0.55, -0.63, -0.61, -0.4, -0.43, -0.58, -0.29, -0.38, -0.59, -0.42, -0.6, -0.75, -0.82, -0.52, -0.61, -0.91, -0.35, -0.5, -0.32, -0.66, -0.44, -0.48, -0.51, -0.27, -0.4, -0.73, -0.66, -0.55, -0.51, -0.47, -0.65, -0.74, -0.65, -0.75, -0.54, -0.59, -0.49, -0.61, -0.58, -0.38, -0.33, -0.56, -0.28, -0.61, -0.69, -0.53, -0.26, -0.6, -0.61, -0.67, -0.9, -0.72, -0.81, -0.72, -0.96, -1.03, -0.98, -0.91, -0.8, -0.85, -0.78, -1.11, -1.09, -0.97, -0.8, -0.86, -0.8, -0.84, -1.04, -1.13, -0.9, -0.87, -0.88, -1.05, -1.35, -1.01, -1.16, -1.38, -1.57, -1.26, -1.06, -1.35, -1.39, -1.63, -1.71, -1.73, -1.57, -1.17, -1.69, -1.64, -1.6, -1.53, -1.72, -1.65, -1.68, -1.57, -1.82, -1.76, -1.69, -1.61, -1.87, -1.9, -1.92, -2.07, -2.04, -1.8, -1.86, -1.71, -2.22, -1.73, -1.69, -2.14, -2.04, -2.38, -2.26, -2.09, -2.23, -2.07, -2.1, -2.29, -2.18, -1.88, -2.03, -2.18, -1.7, -2.04, -1.79, -1.99, -1.97, -2.02, -1.71, -1.86, -1.67, -1.77, -1.76, -1.84, -1.76, -1.77, -1.63, -1.82, -1.75, -1.78, -1.99, -1.77, -1.78, -1.94, -1.73, -1.8, -1.96, -2.05, -1.85, -1.83, -2.06, -2.02, -1.99, -1.69, -1.92, -2.09, -2.19, -1.89, -2.08, -1.95, -1.95, -1.99, -1.97, -2.01, -1.83, -1.84, -1.78, -1.74, -1.73, -1.73, -1.57, -1.54, -1.78, -1.41, -1.71, -1.33, -1.29, -1.19, -1.37, -1.26, -1.18, -1.31, -1.25, -1.23, -1.14, -1.3, -1.25, -0.91, -1.06, -0.84, -1.3, -1.33, -0.98, -1.23, -1.08, -0.93, -0.71, -0.97, -0.91, -0.94, -0.84, -1.06, -0.88, -0.73, -0.83, -0.71, -0.68, -0.73, -0.64, -0.75, -0.72, -0.66, -0.74, -0.66, -0.79, -0.65, -0.41, -0.57, -0.52, -0.56, -0.66, -0.63, -0.67, -0.39, -0.19, -0.47, -0.49, -0.56, -0.29, -0.53, -0.31, -0.39, -0.09, -0.38, -0.27, -0.11, -0.06, 5.20417e-18, -0.07, -0.08, 0.36, 0.19, 0.12, 0.21, 0.25, 0.36, 0.4, 0.62, 0.25, 0.69, 0.84, 0.71, 0.76, 0.91, 1.09, 0.81, 1.07, 0.93, 1.46, 1.44, 1.13, 1.37, 1.4, 1.17, 1.46, 1.42, 1.26, 1.44, 1.76, 2.12, 1.87, 2.02, 1.98, 2.2, 2.34, 2.56, 2.21, 2.43, 2.46, 2.45, 2.62, 2.38, 2.49, 2.43, 2.67, 2.66, 2.52, 2.55, 2.36, 2.52, 2.52, 2.58, 2.84, 2.74, 2.83, 2.77, 2.52, 2.57, 2.76, 2.94, 2.89, 3.02, 3.03, 2.89, 3.27, 3.34, 3.4, 3.49, \n",
    "]\n",
    "corr4 = np.array(corr4)"
   ]
  },
  {
   "cell_type": "code",
   "execution_count": 148,
   "metadata": {},
   "outputs": [],
   "source": [
    "corr5 = [4.24, 4.2, 3.98, 3.48, 3.68, 2.88, 3.08, 3.38, 3.08, 2.68, 2.82, 3.22, 3.06, 2.94, 2.72, 2.82, 2.66, 2.5, 2.8, 2.48, 2.28, 2.76, 3, 2.72, 2.5, 2.14, 2.48, 2, 1.88, 1.76, 1.84, 2.06, 2.1, 2.28, 2.2, 2.36, 2.18, 2.14, 2.32, 2.34, 2.06, 2.48, 2.46, 3, 2.86, 2.18, 2.76, 2.58, 2.74, 2.56, 2.44, 2.06, 2.3, 2.28, 2.44, 1.9, 1.84, 1.84, 2.26, 1.8, 1.9, 1.62, 1.76, 1.86, 1.56, 1.58, 1.46, 1.76, 1.6, 1.62, 1.22, 1.3, 1.68, 1.5, 1.9, 1.7, 1.56, 1.36, 1.38, 1.5, 1.38, 1.18, 1.8, 1.16, 1.26, 1.64, 1.58, 1.7, 1.64, 1.7, 1.88, 1.74, 1.52, 1.7, 1.4, 1.22, 1.16, 1.1, 1.44, 1.02, 1.24, 1.02, 1.26, 1.5, 0.64, 0.7, 1.14, 0.92, 1.02, 0.92, 0.9, 1, 0.6, 0.74, 0.86, 0.88, 0.88, 0.96, 0.7, 1.1, 0.98, 0.82, 0.9, 0.84, 1.06, 1.22, 1.12, 0.74, 0.5, 0.66, 0.62, 0.42, 0.8, 0.88, 0.88, 0.94, 0.86, 0.8, 0.78, 0.88, 0.52, 0.5, 0.4, 0.74, 0.66, 0.44, 0.38, 0.06, 0.22, 0.02, -0.1, -0.64, 0.04, -7.28584e-17, 0.16, -0.18, -0.24, -0.24, -0.4, -0.34, -0.32, -0.24, -0.4, -0.64, -0.06, -0.26, -6.245e-17, 0.12, -0.08, -0.16, -0.1, -0.34, -0.28, -0.4, -0.18, -0.48, -0.2, -0.62, -0.54, -0.62, -0.86, -0.86, -0.74, -0.3, -0.76, -0.46, -0.96, -1.2, -1.42, -1.08, -1, -0.98, -0.9, -1.3, -1.56, -1.36, -1.24, -1.44, -1.02, -1.38, -0.96, -0.84, -1.4, -1.5, -1.12, -1.6, -1.26, -1.14, -1.34, -1.78, -1.5, -1.8, -1.72, -1.84, -2.2, -1.94, -2.3, -1.82, -1.66, -1.78, -2.04, -1.52, -1.76, -1.48, -1.54, -2.24, -1.96, -2.06, -1.74, -1.92, -2.02, -1.86, -2.14, -2.32, -2.44, -1.78, -2.2, -2.12, -1.86, -2.1, -2.26, -2.2, -2.54, -2.66, -2.3, -2.4, -2.38, -2.44, -2.38, -2.38, -2.68, -2.48, -2.76, -2.78, -2.6, -2.52, -2.48, -2.98, -2.32, -2.58, -2.66, -2.48, -3.04, -3.04, -2.62, -3.14, -2.98, -2.22, -2.56, -2.36, -2.82, -2.7, -2.16, -2.24, -2.16, -2.86, -2.46, -2.9, -2.34, -2.34, -2.08, -1.8, -2.48, -1.86, -1.96, -1.78, -2, -1.82, -2, -2.26, -2.38, -2.68, -2.16, -2.18, -1.98, -1.9, -1.98, -1.92, -2.04, -1.84, -1.98, -2.24, -2.2, -1.72, -2.26, -1.64, -1.84, -2.26, -2.4, -2.28, -1.88, -1.7, -1.92, -1.84, -2.06, -2.18, -2.12, -2.24, -2.1, -1.84, -2.04, -2.14, -2.06, -1.82, -1.38, -1.72, -1.46, -1.9, -2.22, -1.7, -1.64, -2.02, -1.84, -1.66, -1.94, -1.98, -1.74, -1.86, -1.4, -1.56, -1.24, -1.14, -1.72, -1.76, -1.72, -1.82, -1.48, -1.94, -1.44, -1.48, -1.32, -1.42, -1.4, -1.24, -0.9, -0.98, -1.2, -1.46, -1.12, -1.54, -1.56, -1.2, -1.46, -1.26, -1.28, -1.32, -1.12, -1.3, -1.38, -1.12, -0.72, -0.86, -1.32, -1.34, -1.12, -0.72, -0.74, -0.9, -1.32, -0.96, -0.8, -1, -0.8, -0.8, -0.62, -0.78, -0.84, -1.1, -0.92, -1.14, -1.22, -1, -0.64, -0.96, -0.68, -0.8, -0.2, -0.28, -0.32, 0.02, -0.04, -0.22, 0.08, -0.44, -0.58, -0.36, -0.76, -0.2, -0.7, -0.14, -0.48, 0.26, -0.12, -0.56, -0.48, -0.24, -0.06, -0.26, -0.16, -0.66, -0.36, -0.54, -0.06, -0.2, 0.42, 0.12, 0.06, 0.04, -0.08, -0.22, 0.36, 0.12, 0.34, 0.28, 0.38, 0.7, 0.5, 0.6, 0.66, 0.76, 0.46, 0.7, 0.74, 0.54, 0.4, 0.52, 0.74, 0.8, 1.04, 1, 0.64, 0.74, 0.9, 1.26, 0.9, 0.94, 1.06, 1.22, 0.96, 0.76, 1.16, 1.46, 1.34, 1.08, 1.42, 1.58, 1.38, 1.24, 1.46, 1.02, 1.54, 1.58, 1.78, 1.98, 2, 1.58, 1.4, 1.64, 1.82, 1.38, 1.76, 2.3, 2.1, 1.86, 1.96, 1.6, 2.1, 1.68, 1.94, 2.3, 2.32, 2.46, 2.14, 2.34, 2.76, 2.56, 2.88, 2.64, 2.8, 3, 3.26, 3.24, 3.26, 3.62, 3.18, 3.96, 3.86, 4.16, 3.78, 3.82, 3.82, 3.42, \n",
    "]\n",
    "corr5 = np.array(corr5)"
   ]
  },
  {
   "cell_type": "code",
   "execution_count": 220,
   "metadata": {},
   "outputs": [
    {
     "data": {
      "text/plain": [
       "(512,)"
      ]
     },
     "execution_count": 220,
     "metadata": {},
     "output_type": "execute_result"
    }
   ],
   "source": [
    "# 500, 80000\n",
    "corr6 = [3.974, 3.434, 3.314, 3.32, 3.168, 3.232, 3.174, 3.168, 3.072, 3.048, 2.914, 2.852, 2.918, 2.936, 2.906, 2.822, 2.692, 2.616, 2.534, 2.46, 2.582, 2.488, 2.4, 2.42, 2.234, 2.26, 2.304, 2.23, 2.164, 2.262, 2.246, 2.212, 2.082, 2.022, 2.124, 2.01, 1.932, 1.938, 1.916, 1.76, 1.772, 1.822, 1.824, 1.668, 1.598, 1.416, 1.32, 1.386, 1.36, 1.436, 1.48, 1.404, 1.396, 1.23, 1.256, 1.31, 1.036, 1.096, 1.124, 1.194, 1.216, 1.176, 1.216, 1.02, 1.032, 1.056, 1.052, 0.996, 0.886, 0.866, 0.868, 0.862, 0.794, 0.902, 0.758, 0.854, 0.736, 0.746, 0.756, 0.658, 0.732, 0.702, 0.628, 0.66, 0.608, 0.684, 0.638, 0.646, 0.528, 0.48, 0.58, 0.59, 0.526, 0.44, 0.456, 0.482, 0.444, 0.39, 0.442, 0.512, 0.418, 0.336, 0.348, 0.268, 0.1, 0.062, 0.13, 0.06, 0.182, 0.154, 0.232, 0.152, 0.202, 0.046, 0.024, 0.008, -0.002, -0.064, -0.17, -0.11, -0.204, -0.152, -0.166, -0.136, -0.22, -0.272, -0.316, -0.204, -0.28, -0.228, -0.396, -0.394, -0.322, -0.526, -0.438, -0.504, -0.53, -0.526, -0.618, -0.682, -0.648, -0.782, -0.78, -0.742, -0.808, -0.686, -0.868, -0.724, -0.8, -0.734, -0.894, -0.836, -0.71, -0.848, -0.886, -0.816, -0.918, -0.88, -0.828, -0.922, -0.806, -0.948, -0.98, -0.88, -0.936, -1.028, -0.942, -0.974, -1.026, -1.084, -1.036, -1.024, -1.106, -1.08, -1.194, -1.098, -1.072, -1.08, -1.012, -1.16, -1.036, -1.138, -1.136, -1.172, -1.128, -1.17, -1.27, -1.108, -1.026, -1.158, -1.126, -1.216, -1.1, -1.19, -1.23, -1.206, -1.244, -1.23, -1.338, -1.292, -1.224, -1.18, -1.278, -1.252, -1.334, -1.222, -1.202, -1.014, -1.336, -1.264, -1.306, -1.404, -1.438, -1.344, -1.32, -1.446, -1.35, -1.282, -1.448, -1.45, -1.546, -1.564, -1.602, -1.516, -1.586, -1.448, -1.494, -1.556, -1.45, -1.584, -1.658, -1.688, -1.594, -1.694, -1.684, -1.668, -1.552, -1.634, -1.502, -1.52, -1.544, -1.56, -1.49, -1.558, -1.628, -1.514, -1.516, -1.558, -1.656, -1.624, -1.604, -1.478, -1.626, -1.594, -1.688, -1.578, -1.566, -1.586, -1.622, -1.462, -1.432, -1.568, -1.476, -1.428, -1.472, -1.498, -1.502, -1.656, -1.654, -1.574, -1.556, -1.504, -1.428, -1.468, -1.486, -1.632, -1.59, -1.564, -1.6, -1.566, -1.59, -1.602, -1.66, -1.692, -1.566, -1.562, -1.632, -1.63, -1.446, -1.514, -1.576, -1.586, -1.564, -1.484, -1.52, -1.534, -1.48, -1.712, -1.668, -1.596, -1.496, -1.444, -1.446, -1.508, -1.4, -1.384, -1.502, -1.376, -1.41, -1.44, -1.478, -1.408, -1.486, -1.468, -1.442, -1.268, -1.336, -1.334, -1.28, -1.234, -1.212, -1.332, -1.362, -1.32, -1.276, -1.214, -1.19, -1.17, -1.13, -1.238, -1.23, -1.264, -1.132, -1.198, -1.182, -1.014, -0.998, -0.95, -1.038, -1.034, -1.076, -0.974, -0.984, -0.924, -0.998, -0.946, -0.93, -0.938, -0.904, -0.996, -1.076, -0.932, -0.934, -0.914, -0.938, -1.02, -0.946, -0.936, -0.852, -0.864, -0.79, -0.8, -0.842, -0.8, -0.802, -0.782, -0.77, -0.83, -0.816, -0.802, -0.684, -0.694, -0.814, -0.774, -0.658, -0.692, -0.764, -0.634, -0.616, -0.514, -0.524, -0.57, -0.588, -0.466, -0.522, -0.412, -0.448, -0.344, -0.316, -0.28, -0.342, -0.314, -0.282, -0.248, -0.268, -0.238, -0.196, -0.246, -0.086, -0.182, -0.154, -0.234, -0.254, -0.092, -0.128, -0.09, -0.108, -0.02, 0.032, 0.068, 0.024, 0.112, 0.212, 0.15, 0.266, 0.24, 0.22, 0.226, 0.258, 0.178, 0.244, 0.352, 0.326, 0.382, 0.5, 0.356, 0.35, 0.562, 0.654, 0.516, 0.49, 0.502, 0.532, 0.528, 0.5, 0.448, 0.508, 0.558, 0.598, 0.696, 0.644, 0.74, 0.61, 0.846, 0.746, 0.766, 0.746, 0.882, 0.904, 0.97, 0.976, 0.978, 0.966, 1.072, 1.052, 1.048, 1.24, 1.192, 1.29, 1.3, 1.304, 1.386, 1.366, 1.454, 1.346, 1.526, 1.488, 1.54, 1.54, 1.55, 1.626, 1.64, 1.58, 1.722, 1.738, 1.732, 1.928, 1.822, 1.856, 1.804, 1.898, 1.952, 2.078, 2.008, 2.112, 2.152, 2.234, 2.202, 2.322, 2.48, 2.44, 2.468, 2.532, 2.594, 2.636, 2.706, 2.572, 2.788, 2.876, 2.782, 2.874, 3.002, 2.952, 3, 3.078, 3.07, 3.216, 3.308, 3.31, 3.402, 3.37, 3.588, \n",
    "]\n",
    "corr6 = np.array(corr6)\n"
   ]
  },
  {
   "cell_type": "code",
   "execution_count": 218,
   "metadata": {},
   "outputs": [
    {
     "data": {
      "text/plain": [
       "(1024,)"
      ]
     },
     "execution_count": 218,
     "metadata": {},
     "output_type": "execute_result"
    }
   ],
   "source": [
    "# 100, 300 000 \n",
    "corr7 = [9.61, 9.44, 9.3, 9.09, 9.02, 8.99, 9.42, 9.19, 9.42, 9.35, 9.02, 9.08, 8.87, 8.91, 8.68, 8.67, 8.78, 8.55, 8.51, 8.48, 8.73, 8.35, 8.64, 8.11, 8.14, 8.23, 8.09, 8.09, 8.24, 7.9, 8.1, 7.97, 7.75, 7.64, 7.65, 7.65, 7.75, 7.58, 7.41, 7.37, 7.5, 7.19, 7.36, 7.48, 7.16, 7.28, 7.52, 7.13, 7.04, 6.99, 6.78, 6.7, 7.02, 6.64, 6.96, 6.62, 6.3, 6.4, 6.78, 6.41, 6.48, 6.16, 5.69, 6.18, 6.05, 5.74, 5.56, 5.8, 5.35, 5.86, 5.58, 5.2, 5.15, 5.19, 5.34, 4.77, 5.05, 5.18, 5.58, 5.32, 4.78, 4.82, 5.27, 5.49, 5.22, 5.22, 5.16, 4.73, 4.77, 4.45, 4.3, 4.3, 4.97, 5.23, 5.09, 4.78, 4.64, 4.38, 4.37, 4.6, 4.7, 4.72, 4.02, 3.92, 4.21, 3.93, 4.55, 4.34, 4.44, 3.93, 4.27, 4.75, 4.29, 4.09, 3.76, 3.98, 3.6, 3.79, 3.78, 3.7, 3.91, 4.32, 3.83, 3.87, 3.96, 3.56, 3.49, 3.96, 3.71, 3.05, 3.31, 3.21, 2.79, 2.72, 2.8, 2.37, 2.46, 2.97, 2.66, 2.61, 2.89, 2.65, 2.57, 2.67, 2.76, 2.69, 2.4, 2.3, 2.58, 2.43, 2.27, 2.59, 2.38, 2.23, 2.68, 2.18, 2.63, 2.28, 2.58, 1.88, 2.06, 1.78, 1.56, 1.84, 1.64, 1.82, 2, 1.38, 1.3, 1.25, 1.39, 1.31, 1.17, 1.7, 1.19, 1.5, 1.27, 1.57, 1.59, 1.5, 1.7, 1.44, 1.31, 1.16, 0.84, 1.29, 0.97, 1.15, 1.23, 1.21, 1.26, 1.08, 0.96, 0.94, 0.56, 0.27, 0.56, 0.66, 0.48, 0.7, 0.81, 0.89, 1.15, 1.32, 1.26, 1.15, 0.99, 1.5, 0.99, 0.89, 0.82, 0.72, 0.96, 1.04, 0.89, 0.73, 0.69, 0.56, 0.59, 0.47, 0.44, 0.81, 0.32, 0.36, 0.54, 0.15, 0.34, 0.29, 0.47, 0.51, 0.45, 0.6, 0.55, 0.9, 1.08, 0.88, 0.56, 1.24, 0.74, 0.79, 0.36, 0.37, 0.64, 0.74, 0.85, 0.57, 0.19, 0.4, 0.33, 0.46, 0.22, 0.23, 0.09, 0.65, 0.21, 0.4, 0.33, 0.26, -0.31, -0.16, 0.13, -0.4, 0.05, -0.25, -0.26, -0.48, -0.93, -0.58, -0.84, -0.79, -0.79, -0.9, -0.82, -0.57, -0.54, -0.9, -0.75, 0.08, -0.75, -0.56, -1.21, -1.13, -0.98, -0.86, -0.83, -0.58, -1.09, -0.96, -0.86, -1.19, -0.74, -0.53, -0.94, -1.71, -1.11, -1.1, -0.87, -1.35, -1.16, -0.96, -1.26, -0.84, -1.13, -1.1, -1.11, -1.21, -1.11, -1.16, -1.33, -1.41, -1.35, -1.03, -1.32, -1.02, -0.99, -0.67, -0.89, -1.08, -1.16, -1.47, -1.45, -1.64, -1.01, -1.63, -1.9, -1.57, -1.78, -1.97, -1.63, -1.86, -2.29, -2.14, -1.8, -1.51, -1.67, -1.76, -1.61, -1.66, -2.04, -2.21, -1.74, -1.96, -2.04, -1.84, -1.99, -1.7, -1.8, -1.96, -2.37, -2.62, -2.71, -2.91, -3, -2.62, -2.98, -2.61, -2.54, -2.85, -2.98, -2.79, -2.66, -2.83, -2.9, -3.1, -2.78, -2.95, -2.82, -3.21, -3.18, -2.99, -2.94, -3.38, -3.82, -3.78, -4.14, -3.71, -4.04, -4.31, -3.83, -4.08, -4.29, -4.44, -3.93, -4.12, -4.14, -3.69, -3.81, -3.82, -3.98, -3.93, -4.16, -3.72, -3.52, -3.98, -3.68, -3.45, -4.01, -4.1, -4.27, -3.59, -4.22, -4.14, -3.79, -4.32, -3.99, -4.48, -4.15, -4.04, -4.16, -3.74, -3.75, -3.83, -3.85, -3.82, -4.43, -3.93, -4.19, -3.78, -4.38, -3.98, -4.48, -4.01, -4.34, -4.5, -4.49, -4.38, -4.34, -4.18, -3.85, -4.18, -4.39, -3.92, -4.22, -4, -3.7, -3.92, -3.81, -4.13, -3.96, -4.09, -4.12, -4, -4.36, -4.3, -4.3, -3.95, -3.82, -3.86, -3.92, -3.94, -4.34, -4.54, -4.53, -5.27, -4.98, -4.84, -4.9, -5.1, -4.87, -5.25, -4.96, -5.47, -4.8, -5.25, -5.21, -5.15, -5.35, -4.81, -4.92, -5.24, -4.94, -5.34, -4.68, -5.29, -5.27, -5.12, -5.13, -5.38, -4.65, -5.28, -5.27, -5.38, -4.98, -4.64, -4.78, -5.07, -4.98, -5.01, -4.95, -5.01, -5.17, -5.01, -4.86, -4.73, -4.62, -4.98, -4.58, -4.54, -4.86, -4.91, -4.46, -3.99, -4.71, -4.34, -4.13, -4.53, -4.42, -4.24, -4.06, -4.44, -4.41, -4.3, -4.24, -4.2, -4.61, -4.48, -4.28, -4.17, -3.75, -4.17, -4.33, -4.13, -3.97, -4.45, -4.43, -4.42, -3.99, -4.01, -4.31, -4.21, -4.58, -4.56, -4.55, -4.66, -4.1, -4.22, -3.87, -3.93, -4.14, -4.5, -4.75, -4.44, -4.39, -4.29, -4.6, -4, -3.89, -4.22, -4.06, -4.45, -4.49, -4.27, -4.14, -4.35, -4.06, -4.43, -4.08, -4.11, -4.23, -3.85, -4.33, -4.19, -4.08, -4.31, -3.89, -4.45, -3.96, -4, -4.29, -4.43, -4.14, -4.31, -4.51, -4.4, -4.06, -4.42, -4.2, -3.67, -3.92, -4.11, -4.43, -3.81, -3.9, -3.79, -3.82, -3.85, -4.02, -3.57, -4.21, -4.84, -4.2, -3.97, -4.12, -4.01, -4.03, -4.04, -4.21, -3.72, -3.74, -4.14, -3.55, -4.24, -3.94, -4, -4.12, -3.83, -3.78, -3.63, -3.65, -3.58, -3.86, -3.76, -3.95, -4.29, -4.15, -4.09, -3.91, -3.97, -3.96, -4.15, -3.72, -3.82, -4.09, -3.85, -3.99, -4.18, -4.34, -4.13, -4.34, -4.36, -4.47, -4.4, -4.49, -3.96, -3.98, -3.91, -4.1, -3.74, -4.06, -3.35, -3.47, -3.73, -3.58, -3.67, -3.44, -4.09, -3.56, -3.35, -3.63, -3.6, -3.57, -3.83, -3.86, -3.31, -3.27, -3.57, -3.31, -3.45, -3.57, -3.29, -3.39, -3.07, -3.54, -3.56, -3.95, -3.99, -3.92, -3.6, -3.56, -4.36, -3.68, -3.51, -3.71, -3.61, -3.71, -3.73, -3.84, -3.67, -3.55, -3.75, -3.14, -3.87, -3.66, -3.93, -3.66, -3.95, -3.9, -3.56, -3.5, -3.31, -3.07, -2.94, -3.29, -3.13, -2.79, -2.69, -2.91, -3, -3.06, -3.06, -2.84, -3.21, -2.87, -3.04, -2.78, -3.18, -2.83, -2.78, -2.58, -2.53, -2.5, -2.29, -2.78, -2.84, -2.82, -2.66, -2.81, -2.88, -2.63, -2.47, -2.63, -2.46, -2.51, -2.6, -2.68, -3.03, -3.04, -2.84, -3, -2.32, -2.64, -2.53, -2.38, -2.55, -3.03, -2.91, -2.51, -2.42, -3.5, -2.76, -2.93, -2.87, -2.79, -2.96, -2.56, -2.49, -2.61, -2.34, -2.89, -2.66, -2.49, -2.44, -2.35, -2.55, -2.74, -2.58, -2.84, -2.78, -2.66, -2.72, -3.03, -2.59, -2.57, -2.57, -2.58, -2.08, -2.06, -1.92, -2.29, -2.1, -1.84, -1.88, -2.01, -1.85, -2.55, -2.1, -1.73, -2.13, -2.02, -1.86, -2.19, -2.21, -1.92, -2.28, -2.28, -2.53, -2.03, -2.61, -2.04, -2.24, -2.09, -1.96, -1.73, -2.2, -1.92, -1.69, -1.92, -2.17, -1.74, -1.78, -1.91, -1.67, -1.57, -1.58, -1.8, -1.58, -1.47, -1.09, -0.85, -1.09, -1.41, -1.42, -1.08, -1.32, -1.1, -1.28, -0.92, -1.06, -0.87, -0.78, -0.6, -0.6, -0.56, -0.96, -0.76, -0.6, -0.69, -0.9, -0.84, -0.75, -0.77, -1.3, -1.12, -0.77, -1.38, -0.74, -0.79, -0.61, -0.7, -1.03, -0.86, -0.71, -0.59, -0.43, -0.37, -0.54, -0.41, 0.16, -0.24, 0.23, -0.11, 0.21, 0.43, 0.54, 0.26, 0.09, 0.35, 0.69, 0.38, 0.68, 0.81, 0.87, 1.37, 0.92, 0.96, 1.03, 1.14, 1.7, 1.69, 1.74, 1.63, 1.73, 1.42, 1.49, 1.2, 1.26, 2.34, 1.78, 1.62, 1.56, 1.95, 1.91, 1.8, 1.8, 2.21, 1.84, 2.11, 2.31, 2.26, 2.65, 2.67, 2.38, 2.92, 2.45, 2.73, 2.54, 2.91, 2.59, 2.24, 2.24, 3.03, 3.18, 2.98, 2.91, 3.22, 3.02, 2.85, 3.09, 2.93, 2.83, 2.95, 3.4, 3.74, 3.41, 3.47, 3.67, 3.67, 3.9, 3.57, 3.28, 3.51, 3.37, 4.01, 4.04, 4.09, 4.32, 3.99, 4.19, 4.04, 4.09, 4.25, 4.3, 4.35, 4.6, 4.12, 4.47, 4.46, 4.65, 5.02, 4.74, 5.01, 5.27, 4.87, 4.83, 5.09, 5.07, 4.97, 4.83, 5.09, 4.94, 5.17, 4.97, 5.85, 5.85, 5.41, 5.48, 6.14, 6.06, 5.66, 5.98, 6.03, 6.05, 6.67, 6.65, 6.68, 6.77, 6.48, 6.79, 6.14, 6.65, 6.8, 6.98, 6.92, 7.14, 6.81, 7.1, 7.31, 7.88, 6.92, 7.25, 7.21, 7.59, 7.68, 7.42, 7.44, 7.38, 7.41, 7.28, 7.57, 7.47, 7.84, 7.83, 7.65, 7.71, 8.13, 8.15, 8.22, 8.56, 7.85, 8.42, 8.52, 8.58, 8.19, 7.95, 8.48, 8.46, 8.25, 8.44, 9.03, 9.19, 9, 9.04, 9.11, 8.95, 8.5, 8.71, 9.2, 9.41, 9.43, 9.24, 9.13, 9.46, 9.21, 9.22, \n",
    "]\n",
    "corr7 = np.array(corr7)\n"
   ]
  },
  {
   "cell_type": "code",
   "execution_count": 217,
   "metadata": {},
   "outputs": [],
   "source": [
    "# 500, 50 000 N = 512\n",
    "corr8 = [1.134, 0.62, 0.604, 0.52, 0.434, 0.44, 0.488, 0.426, 0.384, 0.326, 0.362, 0.368, 0.298, 0.366, 0.348, 0.282, 0.272, 0.254, 0.224, 0.152, 0.156, 0.208, 0.242, 0.236, 0.238, 0.246, 0.226, 0.194, 0.22, 0.144, 0.198, 0.142, 0.15, 0.062, 0.034, 0.106, 0.13, 0.164, 0.128, 0.056, 0.124, 0.098, 0.164, 0.124, 0.14, 0.098, 0.122, 0.064, 0.06, 0.094, 0.046, 0.044, 0.082, 0.086, 0.082, 0.09, 0.06, 0.042, 0.032, 0.006, -0.014, 0.016, 0.042, 0.056, 0.026, 0.042, 0.03, 0.03, 0.052, 0.06, 0.046, 0.058, -0.03, -0.02, 0.05, -0.038, 0.054, -0.014, 1.21431e-17, -0.014, -0.004, -0.06, 0.018, -0.042, -0.062, -0.03, -0.078, 0.018, 0.008, 0.012, -0.084, -0.052, -0.15, -0.07, -0.054, -0.032, -0.036, -0.022, 0.008, 0.048, 0.008, -0.006, 0.026, -0.07, -0.032, -0.046, -0.054, -0.104, -0.082, -0.02, -0.02, -0.042, -0.032, 0.012, 0.016, -0.01, 0.03, -0.014, -0.02, 0.024, -0.038, -0.04, -0.014, -0.022, -0.026, -0.068, -0.01, -0.038, -0.07, -0.072, -0.126, -0.054, -0.024, -0.002, -0.076, 0.008, -0.026, 0.018, -0.106, -0.044, -0.02, 0.022, -0.052, -0.026, -0.08, -0.03, -0.066, -0.072, -0.022, -0.068, -0.106, -0.072, -0.132, -0.064, -0.09, -0.116, -0.11, -0.052, -0.122, -0.084, -0.15, -0.15, -0.116, -0.104, -0.148, -0.098, -0.064, -0.122, -0.046, -0.012, -0.098, -0.012, 0.002, -0.024, -0.06, -0.04, -0.064, 0.01, -0.084, -0.022, -0.06, -0.038, -0.122, -0.044, -0.034, -0.078, -0.08, -0.056, -0.05, -0.048, -0.062, -0.062, -0.066, -0.052, 0.018, -0.01, -0.022, -0.016, -0.032, -0.014, -0.078, -0.118, -0.086, -0.13, -0.13, -0.078, -0.052, -0.1, -0.058, -0.132, -0.158, -0.08, -0.052, -0.084, -0.092, -0.068, -0.16, -0.082, -0.15, -0.104, -0.122, -0.172, -0.14, -0.12, -0.074, -0.074, -0.126, -0.138, -0.1, -0.114, -0.134, -0.126, -0.114, -0.164, -0.168, -0.134, -0.076, -0.112, -0.032, -0.102, -0.058, -0.126, -0.08, -0.052, -0.094, -0.08, -0.044, -0.082, -0.138, -0.06, -0.034, -0.142, -0.13, -0.05, -0.088, -0.068, -0.072, -0.106, -0.098, -0.076, -0.092, -0.11, -0.102, -0.122, -0.082, -0.106, -0.142, -0.094, -0.168, -0.116, -0.16, -0.088, -0.116, -0.042, -0.082, -0.104, -0.088, -0.096, -0.128, -0.086, -0.158, -0.072, -0.024, -0.062, -0.022, -0.04, -0.034, -0.078, -0.066, -0.104, -0.094, -0.084, -0.064, -0.058, -0.016, 0.012, -0.058, -0.044, -0.082, -0.052, -0.058, -0.062, -0.074, -0.104, -0.084, -0.094, -0.112, -0.146, -0.204, -0.154, -0.024, -0.1, -0.092, -0.08, -0.062, -0.116, -0.098, -0.058, -0.098, -0.13, -0.164, -0.096, -0.11, -0.17, -0.148, -0.212, -0.096, -0.13, -0.134, -0.136, -0.14, -0.152, -0.134, -0.15, -0.092, -0.134, -0.218, -0.078, -0.144, -0.224, -0.198, -0.27, -0.22, -0.198, -0.1, -0.122, -0.144, -0.132, -0.138, -0.084, -0.09, -0.164, -0.136, -0.138, -0.152, -0.144, -0.152, -0.174, -0.198, -0.088, -0.102, -0.172, -0.108, -0.128, -0.094, -0.052, -0.054, -0.112, -0.098, -0.066, -0.072, -0.058, -0.01, -0.01, -0.052, -0.058, -0.026, -0.06, -0.028, -0.062, -0.104, -0.076, -0.042, -0.046, -0.046, -0.062, 0.01, -0.052, -0.076, -0.074, -0.04, -0.016, -0.086, -0.022, -0.01, -0.078, -0.066, -0.152, -0.058, -0.128, -0.114, -0.07, -0.042, -0.122, -0.126, -0.078, -0.05, -0.068, -0.012, -0.038, -0.03, -0.038, 0.012, 0.014, -0.058, -0.04, -0.008, -0.022, -0.056, 0.014, -0.002, -0.014, 0.042, 0.06, 0, 0.018, -0.02, -0.004, -0.01, -0.028, -0.024, 0.01, 0.026, 0.008, 1.38778e-17, 0.082, 0.094, -0.046, -0.018, 0.052, 0.108, 0.052, 0.008, -0.014, 0.042, 0.042, 0.082, 0.03, 0.048, 0.032, 0.056, 0.054, 0.028, 0.078, 0.02, 0.06, 0.056, 0.044, 0.054, 0.076, 0.048, 0, 0.04, 0.07, 0.052, 0.06, 0.15, 0.124, 0.084, 0.138, 0.096, 0.12, 0.102, 0.09, 0.062, 0.148, 0.16, 0.162, 0.134, 0.138, 0.048, 0.058, 0.054, 0.102, 0.18, 0.204, 0.18, 0.222, 0.238, 0.248, 0.3, 0.234, 0.23, 0.276, 0.268, 0.26, 0.268, 0.274, 0.244, 0.314, 0.318, 0.374, 0.356, 0.382, 0.408, 0.404, 0.402, 0.49, 0.558, 0.508, 0.584, 0.686]\n",
    "corr8 = np.array(corr8)"
   ]
  },
  {
   "cell_type": "code",
   "execution_count": 191,
   "metadata": {},
   "outputs": [],
   "source": [
    "corr3 = (corr5 + corr4 + corr6)/3"
   ]
  },
  {
   "cell_type": "code",
   "execution_count": 229,
   "metadata": {},
   "outputs": [
    {
     "data": {
      "text/plain": [
       "[<matplotlib.lines.Line2D at 0x1a1b027358>]"
      ]
     },
     "execution_count": 229,
     "metadata": {},
     "output_type": "execute_result"
    },
    {
     "data": {
      "image/png": "[encoded data removed]",
      "text/plain": [
       "<Figure size 432x288 with 1 Axes>"
      ]
     },
     "metadata": {
      "needs_background": "light"
     },
     "output_type": "display_data"
    }
   ],
   "source": [
    "# plt.plot(list(range(0, len(corr))), corr1)\n",
    "# plt.plot(list(range(0, len(corr3))), corr3)\n",
    "plt.plot(list(range(0, len(corr6))), corr6)\n",
    "# plt.plot(list(range(0, len(corr8))), corr8, color='r')\n",
    "\n",
    "# plt.plot(list(range(0, len(corr7))), green_eval)\n",
    "# plt.plot(list(range(0, len(corr))), squared_x)\n",
    "\n"
   ]
  },
  {
   "cell_type": "code",
   "execution_count": 230,
   "metadata": {},
   "outputs": [
    {
     "data": {
      "text/plain": [
       "[<matplotlib.lines.Line2D at 0x1a1b0de128>]"
      ]
     },
     "execution_count": 230,
     "metadata": {},
     "output_type": "execute_result"
    },
    {
     "data": {
      "image/png": "[encoded data removed]",
      "text/plain": [
       "<Figure size 432x288 with 1 Axes>"
      ]
     },
     "metadata": {
      "needs_background": "light"
     },
     "output_type": "display_data"
    }
   ],
   "source": [
    "plt.plot(list(range(0, len(corr8))), corr8, color='r')\n"
   ]
  },
  {
   "cell_type": "code",
   "execution_count": 205,
   "metadata": {},
   "outputs": [],
   "source": [
    "def green_function(x2):\n",
    "    return 1/2. * min(x2, 1 - x2) - 1/2. * min( x2, 1 - x2)**2"
   ]
  },
  {
   "cell_type": "code",
   "execution_count": 214,
   "metadata": {},
   "outputs": [],
   "source": [
    "green_eval = [green_function(i/1024.) for i in range(1024)]\n",
    "green_eval = -1 * np.array(green_eval) * 120 + 9.8"
   ]
  },
  {
   "cell_type": "code",
   "execution_count": 207,
   "metadata": {},
   "outputs": [],
   "source": [
    "squared_x = [-0.7 + 0.0005*(i - 64)**2 for i in range(128)]"
   ]
  },
  {
   "cell_type": "code",
   "execution_count": 216,
   "metadata": {},
   "outputs": [
    {
     "data": {
      "text/plain": [
       "48.0"
      ]
     },
     "execution_count": 216,
     "metadata": {},
     "output_type": "execute_result"
    }
   ],
   "source": [
    "8 * 60 * 60  / 600."
   ]
  },
  {
   "cell_type": "code",
   "execution_count": null,
   "metadata": {},
   "outputs": [],
   "source": [
    "1/2*(x - x^2)\n",
    "1/2 ( 1 - x - (1 - x)^2) = 1/2( 1 - x - 1 + 2x - x^2)\n",
    "= 1/2*(x - x^2)"
   ]
  }
 ],
 "metadata": {
  "kernelspec": {
   "display_name": "Python 3",
   "language": "python",
   "name": "python3"
  },
  "language_info": {
   "codemirror_mode": {
    "name": "ipython",
    "version": 3
   },
   "file_extension": ".py",
   "mimetype": "text/x-python",
   "name": "python",
   "nbconvert_exporter": "python",
   "pygments_lexer": "ipython3",
   "version": "3.6.8"
  }
 },
 "nbformat": 4,
 "nbformat_minor": 2
}
