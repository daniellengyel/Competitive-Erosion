{
 "cells": [
  {
   "cell_type": "code",
   "execution_count": 3,
   "metadata": {},
   "outputs": [],
   "source": [
    "import matplotlib.pyplot as plt\n",
    "import numpy as np\n",
    "\n",
    "import scipy.stats as stats\n",
    "import math"
   ]
  },
  {
   "cell_type": "code",
   "execution_count": 32,
   "metadata": {},
   "outputs": [
    {
     "data": {
      "text/plain": [
       "(1000,)"
      ]
     },
     "execution_count": 32,
     "metadata": {},
     "output_type": "execute_result"
    }
   ],
   "source": [
    "fluctuations = [128, 127, 128, 127, 127, 126, 127, 128, 128, 128, 127, 129, 128, 127, 127, 128, 130, 129, 129, 129, 128, 129, 129, 129, 128, 128, 127, 127, 128, 127, 128, 128, 128, 128, 128, 129, 127, 128, 128, 127, 128, 126, 129, 127, 130, 129, 129, 130, 129, 130, 129, 128, 130, 129, 129, 129, 129, 128, 128, 127, 127, 127, 125, 126, 128, 128, 127, 128, 128, 127, 127, 126, 127, 127, 126, 128, 128, 129, 127, 128, 128, 128, 128, 128, 128, 129, 127, 128, 128, 127, 129, 129, 129, 130, 128, 128, 129, 128, 128, 127, 128, 126, 126, 127, 127, 128, 128, 127, 128, 127, 128, 128, 129, 130, 129, 129, 128, 128, 128, 128, 126, 127, 127, 127, 128, 127, 128, 127, 128, 128, 127, 128, 126, 126, 128, 126, 127, 128, 127, 127, 126, 129, 128, 128, 128, 127, 127, 129, 128, 127, 129, 128, 126, 128, 128, 127, 127, 128, 128, 127, 128, 128, 129, 129, 129, 129, 128, 128, 126, 126, 127, 127, 127, 127, 128, 129, 129, 128, 128, 128, 129, 128, 127, 127, 128, 126, 127, 128, 128, 127, 129, 129, 128, 128, 129, 126, 129, 129, 128, 128, 127, 126, 128, 128, 127, 126, 129, 127, 129, 128, 128, 130, 128, 129, 128, 128, 127, 128, 128, 129, 129, 127, 128, 128, 127, 127, 128, 127, 127, 127, 128, 127, 127, 127, 128, 127, 127, 126, 126, 127, 128, 127, 128, 129, 129, 128, 129, 128, 127, 128, 127, 128, 127, 127, 128, 127, 129, 128, 129, 128, 129, 127, 128, 128, 128, 128, 127, 127, 127, 129, 127, 128, 128, 130, 129, 129, 129, 128, 129, 129, 129, 128, 129, 129, 130, 129, 129, 129, 129, 128, 129, 128, 128, 127, 128, 129, 127, 128, 127, 128, 127, 129, 126, 127, 126, 127, 127, 129, 128, 127, 128, 127, 128, 129, 128, 128, 128, 129, 128, 128, 127, 129, 129, 128, 129, 129, 127, 129, 127, 129, 129, 128, 128, 128, 128, 129, 129, 130, 127, 129, 128, 127, 128, 128, 128, 128, 128, 129, 129, 127, 128, 127, 129, 128, 127, 128, 128, 129, 129, 128, 128, 126, 127, 128, 127, 126, 126, 126, 126, 126, 126, 128, 128, 126, 127, 127, 129, 127, 129, 128, 128, 129, 127, 127, 127, 128, 129, 127, 128, 127, 127, 129, 128, 128, 128, 128, 128, 130, 128, 130, 128, 129, 127, 130, 130, 128, 127, 128, 127, 128, 129, 128, 128, 129, 127, 129, 127, 127, 128, 127, 127, 125, 128, 127, 128, 128, 129, 128, 127, 127, 128, 128, 127, 128, 128, 127, 128, 129, 128, 128, 128, 127, 129, 128, 128, 129, 129, 129, 128, 129, 127, 128, 128, 130, 127, 127, 129, 127, 130, 131, 129, 129, 130, 129, 130, 129, 129, 128, 129, 126, 129, 127, 128, 127, 128, 128, 128, 129, 128, 127, 127, 128, 130, 130, 129, 127, 127, 128, 128, 128, 128, 128, 129, 126, 129, 130, 128, 128, 127, 127, 127, 126, 127, 128, 127, 128, 127, 129, 127, 128, 127, 128, 128, 129, 128, 128, 128, 129, 128, 129, 127, 129, 129, 128, 128, 127, 126, 128, 128, 129, 128, 127, 127, 127, 127, 128, 127, 128, 127, 128, 130, 129, 129, 128, 127, 129, 127, 129, 127, 129, 128, 128, 129, 127, 128, 128, 128, 129, 128, 126, 128, 129, 129, 126, 127, 128, 128, 128, 128, 129, 130, 129, 128, 127, 127, 128, 128, 128, 129, 127, 128, 129, 129, 127, 125, 128, 128, 127, 126, 128, 128, 126, 128, 128, 129, 128, 129, 128, 128, 128, 128, 127, 129, 129, 127, 128, 128, 127, 128, 128, 128, 130, 127, 128, 129, 128, 127, 127, 129, 129, 129, 129, 129, 128, 129, 128, 129, 129, 128, 128, 130, 129, 128, 128, 128, 128, 128, 128, 127, 128, 128, 127, 128, 128, 128, 129, 127, 126, 128, 126, 126, 127, 127, 128, 128, 129, 128, 127, 127, 128, 127, 130, 129, 128, 127, 128, 128, 129, 129, 128, 129, 128, 130, 127, 129, 130, 128, 129, 128, 129, 128, 129, 126, 129, 129, 128, 128, 127, 127, 128, 128, 126, 127, 126, 130, 129, 130, 128, 128, 126, 129, 127, 129, 127, 129, 129, 129, 128, 127, 130, 127, 128, 128, 129, 127, 129, 128, 129, 129, 128, 128, 128, 127, 127, 128, 129, 129, 128, 128, 127, 127, 128, 129, 127, 129, 128, 127, 128, 128, 128, 129, 129, 130, 129, 128, 128, 129, 129, 128, 127, 128, 127, 128, 128, 130, 128, 128, 128, 127, 127, 129, 126, 129, 129, 128, 128, 128, 129, 127, 127, 128, 128, 127, 127, 128, 129, 128, 126, 128, 129, 129, 128, 128, 128, 128, 128, 129, 127, 129, 128, 127, 127, 126, 127, 128, 128, 128, 127, 128, 129, 127, 128, 128, 128, 128, 128, 128, 127, 127, 127, 127, 128, 127, 128, 129, 128, 128, 128, 127, 129, 129, 127, 128, 127, 128, 128, 129, 128, 128, 128, 128, 129, 129, 127, 128, 127, 127, 127, 130, 128, 127, 128, 128, 128, 129, 128, 128, 127, 127, 129, 128, 130, 129, 128, 130, 128, 128, 130, 128, 129, 128, 128, 128, 128, 128, 128, 129, 129, 129, 129, 128, 127, 128, 128, 128, 129, 127, 128, 129, 129, 129, 128, 129, 129, 128, 127, 127, 129, 129, 129, 128, 127, 128, 129, 128, 129, 128, 130, 128, 127, 128, 127, 130, 129, 128, 126, 127, 127, 126, 127, 127, 126, 126, 128, 128, 127, 128, 128, 128, 128, 128, 128, 128, 128, 127, 128, 126, 126, 128, 128, 130, 127, 129, 127, 129, 128, 129, 128, 128, 127, 130, 129, 129, 129, 129, 128, 129, 129, 127, 128, 128, 129, 129, 128, 128, 129, 130, 128, 128, 129, 128, 128, 127, 130, 127, 127, 128, 128, 128, 128, 129, 129, 127, 128, 127, 128, 128, 127, 127, 129, 129, 129, 129, 130, 128, 129, 128, 129, 128, 128, 128, 130, 128, 128, 129, 128, 129, 130, 129, 129, \n",
    "]\n",
    "fluctuations = np.array(fluctuations)\n",
    "unique, counts = np.unique(fluctuations, return_counts=True)\n",
    "fluctuations.shape\n",
    "\n"
   ]
  },
  {
   "cell_type": "code",
   "execution_count": 33,
   "metadata": {},
   "outputs": [
    {
     "data": {
      "text/plain": [
       "(1000,)"
      ]
     },
     "execution_count": 33,
     "metadata": {},
     "output_type": "execute_result"
    }
   ],
   "source": [
    "fluctuations = [64, 65, 64, 64, 65, 64, 64, 64, 65, 64, 64, 64, 64, 64, 65, 64, 64, 65, 63, 64, 63, 64, 64, 64, 64, 63, 64, 63, 64, 64, 64, 64, 64, 64, 64, 64, 63, 63, 62, 63, 63, 63, 64, 63, 62, 63, 62, 62, 63, 63, 63, 63, 64, 63, 62, 63, 62, 63, 63, 62, 63, 63, 62, 62, 63, 63, 63, 64, 64, 63, 62, 63, 64, 64, 63, 64, 64, 64, 64, 64, 65, 65, 64, 64, 64, 64, 65, 64, 64, 63, 64, 64, 64, 63, 64, 63, 65, 64, 65, 65, 64, 64, 65, 65, 66, 64, 64, 66, 65, 63, 63, 65, 64, 65, 64, 65, 65, 64, 65, 66, 65, 65, 64, 64, 64, 65, 64, 64, 64, 63, 63, 63, 64, 64, 66, 66, 65, 65, 63, 65, 64, 65, 65, 64, 64, 64, 64, 65, 65, 64, 65, 65, 64, 63, 63, 65, 65, 65, 65, 64, 65, 64, 63, 63, 64, 63, 63, 63, 64, 64, 64, 63, 64, 64, 63, 64, 63, 63, 63, 63, 64, 64, 65, 65, 65, 65, 64, 63, 63, 64, 64, 64, 63, 63, 63, 63, 63, 63, 63, 63, 64, 63, 63, 63, 62, 63, 63, 64, 64, 64, 64, 64, 65, 65, 64, 64, 63, 63, 64, 62, 63, 64, 64, 64, 63, 64, 65, 65, 65, 65, 65, 65, 65, 66, 65, 64, 63, 64, 66, 64, 64, 64, 63, 62, 63, 63, 64, 64, 64, 66, 65, 65, 65, 64, 64, 65, 64, 64, 64, 64, 63, 65, 64, 65, 65, 65, 64, 64, 64, 64, 65, 65, 64, 64, 64, 64, 64, 64, 65, 65, 64, 64, 65, 65, 65, 64, 64, 63, 64, 64, 65, 64, 64, 64, 64, 66, 65, 66, 66, 66, 65, 65, 65, 65, 65, 63, 64, 65, 64, 63, 64, 63, 64, 63, 64, 64, 64, 64, 64, 64, 63, 63, 64, 62, 63, 64, 65, 65, 63, 65, 66, 66, 65, 65, 65, 64, 64, 63, 63, 63, 63, 64, 64, 64, 65, 65, 64, 64, 62, 64, 64, 65, 63, 64, 63, 64, 64, 63, 63, 63, 63, 63, 63, 63, 64, 63, 63, 63, 64, 64, 64, 65, 63, 63, 63, 63, 64, 64, 64, 63, 62, 64, 64, 65, 66, 65, 65, 64, 65, 65, 64, 65, 66, 66, 66, 65, 65, 65, 64, 64, 64, 64, 64, 63, 64, 64, 65, 65, 65, 65, 64, 64, 64, 64, 64, 63, 63, 64, 63, 64, 65, 64, 64, 64, 63, 65, 63, 62, 63, 63, 64, 65, 65, 65, 65, 63, 63, 64, 65, 65, 64, 64, 64, 65, 64, 64, 64, 64, 65, 65, 65, 65, 65, 65, 63, 65, 65, 64, 64, 65, 65, 65, 64, 65, 64, 65, 65, 65, 65, 65, 64, 66, 64, 64, 64, 64, 65, 64, 65, 64, 64, 62, 62, 63, 63, 65, 63, 63, 63, 63, 63, 63, 63, 63, 63, 63, 64, 63, 64, 65, 64, 63, 65, 65, 64, 64, 64, 63, 63, 62, 63, 64, 65, 64, 62, 64, 63, 63, 64, 64, 64, 64, 64, 64, 63, 63, 63, 63, 63, 65, 64, 64, 63, 63, 63, 65, 64, 64, 64, 63, 64, 64, 65, 63, 64, 65, 62, 64, 64, 64, 63, 63, 63, 64, 64, 64, 65, 63, 64, 64, 64, 63, 64, 63, 64, 63, 63, 63, 63, 64, 63, 63, 64, 63, 64, 65, 64, 64, 63, 63, 64, 64, 64, 64, 63, 65, 64, 65, 64, 64, 64, 64, 65, 65, 64, 63, 63, 62, 63, 64, 65, 65, 66, 64, 67, 65, 65, 65, 65, 65, 65, 65, 65, 64, 64, 65, 65, 65, 65, 64, 65, 65, 64, 65, 65, 65, 65, 65, 63, 64, 64, 63, 64, 64, 64, 64, 64, 63, 64, 65, 64, 64, 64, 64, 65, 64, 65, 63, 63, 63, 63, 63, 63, 63, 63, 64, 63, 62, 64, 64, 63, 63, 62, 62, 63, 63, 63, 65, 64, 64, 64, 64, 64, 65, 64, 65, 64, 64, 65, 62, 64, 64, 62, 62, 64, 62, 64, 65, 65, 65, 64, 66, 66, 65, 65, 65, 64, 67, 63, 64, 64, 64, 63, 63, 63, 64, 64, 65, 65, 64, 65, 64, 63, 63, 63, 63, 65, 64, 63, 64, 63, 63, 63, 64, 63, 64, 64, 64, 63, 64, 64, 64, 64, 63, 63, 64, 63, 63, 63, 63, 64, 65, 63, 64, 65, 64, 66, 65, 65, 65, 65, 65, 65, 64, 64, 65, 64, 65, 64, 64, 63, 62, 64, 64, 63, 63, 62, 63, 63, 63, 63, 62, 63, 64, 65, 64, 64, 64, 64, 65, 65, 64, 65, 64, 63, 64, 64, 63, 63, 65, 65, 63, 63, 63, 63, 63, 63, 63, 63, 63, 62, 62, 62, 64, 62, 63, 62, 63, 63, 64, 63, 64, 65, 63, 63, 62, 63, 62, 62, 63, 64, 63, 64, 63, 63, 65, 63, 64, 64, 64, 65, 64, 64, 62, 64, 64, 64, 64, 66, 66, 65, 65, 64, 64, 64, 65, 65, 64, 64, 65, 64, 64, 63, 63, 63, 65, 65, 65, 65, 63, 64, 65, 66, 65, 64, 65, 64, 64, 63, 64, 64, 65, 65, 63, 65, 64, 64, 65, 65, 65, 65, 63, 62, 63, 63, 62, 62, 62, 64, 63, 64, 64, 64, 64, 64, 65, 65, 66, 66, 66, 65, 65, 64, 65, 65, 64, 63, 65, 65, 64, 63, 64, 64, 64, 64, 65, 64, 64, 65, 64, 63, 64, 64, 64, 64, 64, 65, 64, 63, 63, 63, 64, 63, 64, 64, 63, 65, 64, 65, 65, 64, 64, 63, 63, 65, 66, 66, 66, 65, 64, 65, 64, 64, 64, 64, 66, 66, 64, 65, 65, 65, 65, 64, 64, 65, 65, 64, 63, 64, 64, 64, 64, 64, 64, 64, 65, 65, 63, 63, 63, 64, 64, 64, 64, 64, 62, 63, 62, 64, 63, 64, 63, 63, 63, 65, 65, 63, 63, 63, 63, \n",
    "]\n",
    "fluctuations = np.array(fluctuations)\n",
    "unique, counts = np.unique(fluctuations, return_counts=True)\n",
    "fluctuations.shape\n",
    "\n"
   ]
  },
  {
   "cell_type": "code",
   "execution_count": 34,
   "metadata": {},
   "outputs": [
    {
     "data": {
      "text/plain": [
       "(200,)"
      ]
     },
     "execution_count": 34,
     "metadata": {},
     "output_type": "execute_result"
    }
   ],
   "source": [
    "fluctuations = [256, 256, 257, 256, 256, 256, 256, 256, 257, 257, 256, 257, 255, 256, 254, 256, 255, 255, 256, 255, 257, 255, 256, 256, 257, 256, 257, 255, 256, 257, 256, 256, 257, 256, 256, 256, 256, 256, 256, 256, 256, 255, 258, 257, 256, 257, 256, 256, 256, 257, 257, 258, 256, 256, 255, 256, 255, 255, 256, 256, 258, 255, 258, 255, 256, 255, 256, 255, 257, 256, 256, 256, 256, 256, 256, 256, 257, 257, 257, 256, 256, 257, 255, 257, 256, 255, 255, 255, 257, 256, 255, 257, 256, 256, 256, 258, 256, 256, 257, 259, 256, 256, 255, 256, 256, 254, 254, 257, 256, 256, 257, 257, 256, 256, 257, 258, 257, 256, 256, 257, 256, 256, 257, 256, 254, 255, 254, 257, 257, 255, 257, 255, 256, 257, 256, 255, 257, 257, 256, 256, 257, 256, 257, 257, 257, 258, 256, 256, 256, 256, 256, 257, 257, 256, 255, 257, 257, 258, 256, 257, 256, 257, 256, 257, 256, 256, 256, 255, 257, 258, 256, 257, 255, 256, 256, 256, 257, 255, 256, 255, 255, 255, 255, 256, 256, 255, 258, 258, 255, 256, 257, 256, 255, 254, 255, 255, 255, 256, 255, 255, \n",
    "]\n",
    "\n",
    "fluctuations = np.array(fluctuations)\n",
    "unique, counts = np.unique(fluctuations, return_counts=True)\n",
    "fluctuations.shape\n"
   ]
  },
  {
   "cell_type": "code",
   "execution_count": 28,
   "metadata": {},
   "outputs": [],
   "source": [
    "mu = np.mean(fluctuations)\n",
    "sigma = np.sqrt(np.var(fluctuations))"
   ]
  },
  {
   "cell_type": "code",
   "execution_count": 29,
   "metadata": {},
   "outputs": [
    {
     "data": {
      "text/plain": [
       "NormaltestResult(statistic=1.7393463838310215, pvalue=0.41908848837613066)"
      ]
     },
     "execution_count": 29,
     "metadata": {},
     "output_type": "execute_result"
    }
   ],
   "source": [
    "mom = [stats.moment(fluctuations, i) for i in range(2, 10)]\n",
    "\n",
    "stats.normaltest(fluctuations)"
   ]
  },
  {
   "cell_type": "code",
   "execution_count": 30,
   "metadata": {},
   "outputs": [
    {
     "data": {
      "text/plain": [
       "0.9245590000000001"
      ]
     },
     "execution_count": 30,
     "metadata": {},
     "output_type": "execute_result"
    }
   ],
   "source": [
    "sigma**2"
   ]
  },
  {
   "cell_type": "code",
   "execution_count": 26,
   "metadata": {},
   "outputs": [
    {
     "data": {
      "text/plain": [
       "(array([ 6., 40., 92., 50., 12.]),\n",
       " array([254, 255, 256, 257, 258, 259]),\n",
       " <a list of 5 Patch objects>)"
      ]
     },
     "execution_count": 26,
     "metadata": {},
     "output_type": "execute_result"
    },
    {
     "data": {
      "image/png": "[encoded data removed]",
      "text/plain": [
       "<Figure size 432x288 with 1 Axes>"
      ]
     },
     "metadata": {
      "needs_background": "light"
     },
     "output_type": "display_data"
    }
   ],
   "source": [
    "plt.xlabel('The first Red node from bottom for x=0')\n",
    "plt.ylabel('num')\n",
    "\n",
    "x = np.linspace(mu - 3*sigma, mu + 3*sigma, 100)\n",
    "y = stats.norm.pdf(x, mu, sigma)\n",
    "y *= max(counts)/max(y)\n",
    "\n",
    "plt.plot(x, y)\n",
    "\n",
    "plt.hist(fluctuations, bins=list(range(min(fluctuations), max(fluctuations) + 1)), align=\"left\", rwidth=0.9)"
   ]
  },
  {
   "cell_type": "code",
   "execution_count": 54,
   "metadata": {},
   "outputs": [],
   "source": [
    "plt.show()"
   ]
  },
  {
   "cell_type": "code",
   "execution_count": 24,
   "metadata": {},
   "outputs": [
    {
     "data": {
      "text/plain": [
       "(1000,)"
      ]
     },
     "execution_count": 24,
     "metadata": {},
     "output_type": "execute_result"
    }
   ],
   "source": [
    "fluctuations.shape"
   ]
  },
  {
   "cell_type": "code",
   "execution_count": 14,
   "metadata": {},
   "outputs": [
    {
     "data": {
      "text/plain": [
       "1000.0"
      ]
     },
     "execution_count": 14,
     "metadata": {},
     "output_type": "execute_result"
    }
   ],
   "source": [
    "1000000/1000"
   ]
  },
  {
   "cell_type": "code",
   "execution_count": 35,
   "metadata": {},
   "outputs": [
    {
     "data": {
      "text/plain": [
       "1000000"
      ]
     },
     "execution_count": 35,
     "metadata": {},
     "output_type": "execute_result"
    }
   ],
   "source": [
    "200*5000"
   ]
  },
  {
   "cell_type": "code",
   "execution_count": 16,
   "metadata": {},
   "outputs": [],
   "source": [
    "corr = [0.842, 0.522, 0.342, 0.412, 0.31, 0.22, 0.17, 0.218, 0.154, 0.136, 0.118, 0.132, 0.128, 0.106, 0.074, 0.104, 0.102, 0.094, 0.078, 0.052, 0.012, 0.026, 0.032, 0.048, -0.03, -0.042, -0.042, -0.056, -0.092, -0.08, -0.032, -0.02, -0.034, -0.044, -0.08, -0.066, -0.054, -0.042, -0.09, -0.054, -0.048, -0.056, -0.054, -0.036, -0.116, -0.112, -0.064, -0.034, -0.078, -0.014, -0.026, -0.044, -0.028, -0.046, -0.072, -0.056, -0.042, 0.006, -0.058, -0.088, -0.118, -0.116, -0.094, -0.07, -0.036, -0.044, -0.042, -0.08, -0.102, -0.118, -0.142, -0.128, -0.146, -0.138, -0.132, -0.138, -0.208, -0.172, -0.098, -0.09, -0.102, -0.096, -0.068, -0.156, -0.142, -0.13, -0.116, -0.1, -0.108, -0.134, -0.142, -0.108, -0.188, -0.166, -0.16, -0.126, -0.094, -0.13, -0.124, -0.076, -0.02, -0.088, -0.046, -0.044, -0.098, -0.006, -0.028, -0.02, -0.028, -0.006, -0.016, 0.03, 0.046, -0.016, 0.066, 0.012, 0.066, 0.044, 0.098, 0.154, 0.094, 0.192, 0.166, 0.206, 0.266, 0.366, 0.396, 0.462, \n",
    "]\n"
   ]
  },
  {
   "cell_type": "code",
   "execution_count": null,
   "metadata": {},
   "outputs": [],
   "source": []
  },
  {
   "cell_type": "code",
   "execution_count": 17,
   "metadata": {},
   "outputs": [
    {
     "data": {
      "text/plain": [
       "[<matplotlib.lines.Line2D at 0x1a1771fe48>]"
      ]
     },
     "execution_count": 17,
     "metadata": {},
     "output_type": "execute_result"
    },
    {
     "data": {
      "image/png": "[encoded data removed]",
      "text/plain": [
       "<Figure size 432x288 with 1 Axes>"
      ]
     },
     "metadata": {
      "needs_background": "light"
     },
     "output_type": "display_data"
    }
   ],
   "source": [
    "plt.plot(list(range(0, len(corr))), corr)"
   ]
  },
  {
   "cell_type": "code",
   "execution_count": null,
   "metadata": {},
   "outputs": [],
   "source": []
  }
 ],
 "metadata": {
  "kernelspec": {
   "display_name": "Python 3",
   "language": "python",
   "name": "python3"
  },
  "language_info": {
   "codemirror_mode": {
    "name": "ipython",
    "version": 3
   },
   "file_extension": ".py",
   "mimetype": "text/x-python",
   "name": "python",
   "nbconvert_exporter": "python",
   "pygments_lexer": "ipython3",
   "version": "3.6.8"
  }
 },
 "nbformat": 4,
 "nbformat_minor": 2
}
