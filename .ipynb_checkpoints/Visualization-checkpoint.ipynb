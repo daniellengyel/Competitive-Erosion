{
 "cells": [
  {
   "cell_type": "code",
   "execution_count": 3,
   "metadata": {},
   "outputs": [],
   "source": [
    "import matplotlib.pyplot as plt\n",
    "import numpy as np\n",
    "\n",
    "import scipy.stats as stats\n",
    "import math"
   ]
  },
  {
   "cell_type": "code",
   "execution_count": 32,
   "metadata": {},
   "outputs": [
    {
     "data": {
      "text/plain": [
       "(1000,)"
      ]
     },
     "execution_count": 32,
     "metadata": {},
     "output_type": "execute_result"
    }
   ],
   "source": [
    "fluctuations = [128, 127, 128, 127, 127, 126, 127, 128, 128, 128, 127, 129, 128, 127, 127, 128, 130, 129, 129, 129, 128, 129, 129, 129, 128, 128, 127, 127, 128, 127, 128, 128, 128, 128, 128, 129, 127, 128, 128, 127, 128, 126, 129, 127, 130, 129, 129, 130, 129, 130, 129, 128, 130, 129, 129, 129, 129, 128, 128, 127, 127, 127, 125, 126, 128, 128, 127, 128, 128, 127, 127, 126, 127, 127, 126, 128, 128, 129, 127, 128, 128, 128, 128, 128, 128, 129, 127, 128, 128, 127, 129, 129, 129, 130, 128, 128, 129, 128, 128, 127, 128, 126, 126, 127, 127, 128, 128, 127, 128, 127, 128, 128, 129, 130, 129, 129, 128, 128, 128, 128, 126, 127, 127, 127, 128, 127, 128, 127, 128, 128, 127, 128, 126, 126, 128, 126, 127, 128, 127, 127, 126, 129, 128, 128, 128, 127, 127, 129, 128, 127, 129, 128, 126, 128, 128, 127, 127, 128, 128, 127, 128, 128, 129, 129, 129, 129, 128, 128, 126, 126, 127, 127, 127, 127, 128, 129, 129, 128, 128, 128, 129, 128, 127, 127, 128, 126, 127, 128, 128, 127, 129, 129, 128, 128, 129, 126, 129, 129, 128, 128, 127, 126, 128, 128, 127, 126, 129, 127, 129, 128, 128, 130, 128, 129, 128, 128, 127, 128, 128, 129, 129, 127, 128, 128, 127, 127, 128, 127, 127, 127, 128, 127, 127, 127, 128, 127, 127, 126, 126, 127, 128, 127, 128, 129, 129, 128, 129, 128, 127, 128, 127, 128, 127, 127, 128, 127, 129, 128, 129, 128, 129, 127, 128, 128, 128, 128, 127, 127, 127, 129, 127, 128, 128, 130, 129, 129, 129, 128, 129, 129, 129, 128, 129, 129, 130, 129, 129, 129, 129, 128, 129, 128, 128, 127, 128, 129, 127, 128, 127, 128, 127, 129, 126, 127, 126, 127, 127, 129, 128, 127, 128, 127, 128, 129, 128, 128, 128, 129, 128, 128, 127, 129, 129, 128, 129, 129, 127, 129, 127, 129, 129, 128, 128, 128, 128, 129, 129, 130, 127, 129, 128, 127, 128, 128, 128, 128, 128, 129, 129, 127, 128, 127, 129, 128, 127, 128, 128, 129, 129, 128, 128, 126, 127, 128, 127, 126, 126, 126, 126, 126, 126, 128, 128, 126, 127, 127, 129, 127, 129, 128, 128, 129, 127, 127, 127, 128, 129, 127, 128, 127, 127, 129, 128, 128, 128, 128, 128, 130, 128, 130, 128, 129, 127, 130, 130, 128, 127, 128, 127, 128, 129, 128, 128, 129, 127, 129, 127, 127, 128, 127, 127, 125, 128, 127, 128, 128, 129, 128, 127, 127, 128, 128, 127, 128, 128, 127, 128, 129, 128, 128, 128, 127, 129, 128, 128, 129, 129, 129, 128, 129, 127, 128, 128, 130, 127, 127, 129, 127, 130, 131, 129, 129, 130, 129, 130, 129, 129, 128, 129, 126, 129, 127, 128, 127, 128, 128, 128, 129, 128, 127, 127, 128, 130, 130, 129, 127, 127, 128, 128, 128, 128, 128, 129, 126, 129, 130, 128, 128, 127, 127, 127, 126, 127, 128, 127, 128, 127, 129, 127, 128, 127, 128, 128, 129, 128, 128, 128, 129, 128, 129, 127, 129, 129, 128, 128, 127, 126, 128, 128, 129, 128, 127, 127, 127, 127, 128, 127, 128, 127, 128, 130, 129, 129, 128, 127, 129, 127, 129, 127, 129, 128, 128, 129, 127, 128, 128, 128, 129, 128, 126, 128, 129, 129, 126, 127, 128, 128, 128, 128, 129, 130, 129, 128, 127, 127, 128, 128, 128, 129, 127, 128, 129, 129, 127, 125, 128, 128, 127, 126, 128, 128, 126, 128, 128, 129, 128, 129, 128, 128, 128, 128, 127, 129, 129, 127, 128, 128, 127, 128, 128, 128, 130, 127, 128, 129, 128, 127, 127, 129, 129, 129, 129, 129, 128, 129, 128, 129, 129, 128, 128, 130, 129, 128, 128, 128, 128, 128, 128, 127, 128, 128, 127, 128, 128, 128, 129, 127, 126, 128, 126, 126, 127, 127, 128, 128, 129, 128, 127, 127, 128, 127, 130, 129, 128, 127, 128, 128, 129, 129, 128, 129, 128, 130, 127, 129, 130, 128, 129, 128, 129, 128, 129, 126, 129, 129, 128, 128, 127, 127, 128, 128, 126, 127, 126, 130, 129, 130, 128, 128, 126, 129, 127, 129, 127, 129, 129, 129, 128, 127, 130, 127, 128, 128, 129, 127, 129, 128, 129, 129, 128, 128, 128, 127, 127, 128, 129, 129, 128, 128, 127, 127, 128, 129, 127, 129, 128, 127, 128, 128, 128, 129, 129, 130, 129, 128, 128, 129, 129, 128, 127, 128, 127, 128, 128, 130, 128, 128, 128, 127, 127, 129, 126, 129, 129, 128, 128, 128, 129, 127, 127, 128, 128, 127, 127, 128, 129, 128, 126, 128, 129, 129, 128, 128, 128, 128, 128, 129, 127, 129, 128, 127, 127, 126, 127, 128, 128, 128, 127, 128, 129, 127, 128, 128, 128, 128, 128, 128, 127, 127, 127, 127, 128, 127, 128, 129, 128, 128, 128, 127, 129, 129, 127, 128, 127, 128, 128, 129, 128, 128, 128, 128, 129, 129, 127, 128, 127, 127, 127, 130, 128, 127, 128, 128, 128, 129, 128, 128, 127, 127, 129, 128, 130, 129, 128, 130, 128, 128, 130, 128, 129, 128, 128, 128, 128, 128, 128, 129, 129, 129, 129, 128, 127, 128, 128, 128, 129, 127, 128, 129, 129, 129, 128, 129, 129, 128, 127, 127, 129, 129, 129, 128, 127, 128, 129, 128, 129, 128, 130, 128, 127, 128, 127, 130, 129, 128, 126, 127, 127, 126, 127, 127, 126, 126, 128, 128, 127, 128, 128, 128, 128, 128, 128, 128, 128, 127, 128, 126, 126, 128, 128, 130, 127, 129, 127, 129, 128, 129, 128, 128, 127, 130, 129, 129, 129, 129, 128, 129, 129, 127, 128, 128, 129, 129, 128, 128, 129, 130, 128, 128, 129, 128, 128, 127, 130, 127, 127, 128, 128, 128, 128, 129, 129, 127, 128, 127, 128, 128, 127, 127, 129, 129, 129, 129, 130, 128, 129, 128, 129, 128, 128, 128, 130, 128, 128, 129, 128, 129, 130, 129, 129, \n",
    "]\n",
    "fluctuations = np.array(fluctuations)\n",
    "unique, counts = np.unique(fluctuations, return_counts=True)\n",
    "fluctuations.shape\n",
    "\n"
   ]
  },
  {
   "cell_type": "code",
   "execution_count": 33,
   "metadata": {},
   "outputs": [
    {
     "data": {
      "text/plain": [
       "(1000,)"
      ]
     },
     "execution_count": 33,
     "metadata": {},
     "output_type": "execute_result"
    }
   ],
   "source": [
    "fluctuations = [64, 65, 64, 64, 65, 64, 64, 64, 65, 64, 64, 64, 64, 64, 65, 64, 64, 65, 63, 64, 63, 64, 64, 64, 64, 63, 64, 63, 64, 64, 64, 64, 64, 64, 64, 64, 63, 63, 62, 63, 63, 63, 64, 63, 62, 63, 62, 62, 63, 63, 63, 63, 64, 63, 62, 63, 62, 63, 63, 62, 63, 63, 62, 62, 63, 63, 63, 64, 64, 63, 62, 63, 64, 64, 63, 64, 64, 64, 64, 64, 65, 65, 64, 64, 64, 64, 65, 64, 64, 63, 64, 64, 64, 63, 64, 63, 65, 64, 65, 65, 64, 64, 65, 65, 66, 64, 64, 66, 65, 63, 63, 65, 64, 65, 64, 65, 65, 64, 65, 66, 65, 65, 64, 64, 64, 65, 64, 64, 64, 63, 63, 63, 64, 64, 66, 66, 65, 65, 63, 65, 64, 65, 65, 64, 64, 64, 64, 65, 65, 64, 65, 65, 64, 63, 63, 65, 65, 65, 65, 64, 65, 64, 63, 63, 64, 63, 63, 63, 64, 64, 64, 63, 64, 64, 63, 64, 63, 63, 63, 63, 64, 64, 65, 65, 65, 65, 64, 63, 63, 64, 64, 64, 63, 63, 63, 63, 63, 63, 63, 63, 64, 63, 63, 63, 62, 63, 63, 64, 64, 64, 64, 64, 65, 65, 64, 64, 63, 63, 64, 62, 63, 64, 64, 64, 63, 64, 65, 65, 65, 65, 65, 65, 65, 66, 65, 64, 63, 64, 66, 64, 64, 64, 63, 62, 63, 63, 64, 64, 64, 66, 65, 65, 65, 64, 64, 65, 64, 64, 64, 64, 63, 65, 64, 65, 65, 65, 64, 64, 64, 64, 65, 65, 64, 64, 64, 64, 64, 64, 65, 65, 64, 64, 65, 65, 65, 64, 64, 63, 64, 64, 65, 64, 64, 64, 64, 66, 65, 66, 66, 66, 65, 65, 65, 65, 65, 63, 64, 65, 64, 63, 64, 63, 64, 63, 64, 64, 64, 64, 64, 64, 63, 63, 64, 62, 63, 64, 65, 65, 63, 65, 66, 66, 65, 65, 65, 64, 64, 63, 63, 63, 63, 64, 64, 64, 65, 65, 64, 64, 62, 64, 64, 65, 63, 64, 63, 64, 64, 63, 63, 63, 63, 63, 63, 63, 64, 63, 63, 63, 64, 64, 64, 65, 63, 63, 63, 63, 64, 64, 64, 63, 62, 64, 64, 65, 66, 65, 65, 64, 65, 65, 64, 65, 66, 66, 66, 65, 65, 65, 64, 64, 64, 64, 64, 63, 64, 64, 65, 65, 65, 65, 64, 64, 64, 64, 64, 63, 63, 64, 63, 64, 65, 64, 64, 64, 63, 65, 63, 62, 63, 63, 64, 65, 65, 65, 65, 63, 63, 64, 65, 65, 64, 64, 64, 65, 64, 64, 64, 64, 65, 65, 65, 65, 65, 65, 63, 65, 65, 64, 64, 65, 65, 65, 64, 65, 64, 65, 65, 65, 65, 65, 64, 66, 64, 64, 64, 64, 65, 64, 65, 64, 64, 62, 62, 63, 63, 65, 63, 63, 63, 63, 63, 63, 63, 63, 63, 63, 64, 63, 64, 65, 64, 63, 65, 65, 64, 64, 64, 63, 63, 62, 63, 64, 65, 64, 62, 64, 63, 63, 64, 64, 64, 64, 64, 64, 63, 63, 63, 63, 63, 65, 64, 64, 63, 63, 63, 65, 64, 64, 64, 63, 64, 64, 65, 63, 64, 65, 62, 64, 64, 64, 63, 63, 63, 64, 64, 64, 65, 63, 64, 64, 64, 63, 64, 63, 64, 63, 63, 63, 63, 64, 63, 63, 64, 63, 64, 65, 64, 64, 63, 63, 64, 64, 64, 64, 63, 65, 64, 65, 64, 64, 64, 64, 65, 65, 64, 63, 63, 62, 63, 64, 65, 65, 66, 64, 67, 65, 65, 65, 65, 65, 65, 65, 65, 64, 64, 65, 65, 65, 65, 64, 65, 65, 64, 65, 65, 65, 65, 65, 63, 64, 64, 63, 64, 64, 64, 64, 64, 63, 64, 65, 64, 64, 64, 64, 65, 64, 65, 63, 63, 63, 63, 63, 63, 63, 63, 64, 63, 62, 64, 64, 63, 63, 62, 62, 63, 63, 63, 65, 64, 64, 64, 64, 64, 65, 64, 65, 64, 64, 65, 62, 64, 64, 62, 62, 64, 62, 64, 65, 65, 65, 64, 66, 66, 65, 65, 65, 64, 67, 63, 64, 64, 64, 63, 63, 63, 64, 64, 65, 65, 64, 65, 64, 63, 63, 63, 63, 65, 64, 63, 64, 63, 63, 63, 64, 63, 64, 64, 64, 63, 64, 64, 64, 64, 63, 63, 64, 63, 63, 63, 63, 64, 65, 63, 64, 65, 64, 66, 65, 65, 65, 65, 65, 65, 64, 64, 65, 64, 65, 64, 64, 63, 62, 64, 64, 63, 63, 62, 63, 63, 63, 63, 62, 63, 64, 65, 64, 64, 64, 64, 65, 65, 64, 65, 64, 63, 64, 64, 63, 63, 65, 65, 63, 63, 63, 63, 63, 63, 63, 63, 63, 62, 62, 62, 64, 62, 63, 62, 63, 63, 64, 63, 64, 65, 63, 63, 62, 63, 62, 62, 63, 64, 63, 64, 63, 63, 65, 63, 64, 64, 64, 65, 64, 64, 62, 64, 64, 64, 64, 66, 66, 65, 65, 64, 64, 64, 65, 65, 64, 64, 65, 64, 64, 63, 63, 63, 65, 65, 65, 65, 63, 64, 65, 66, 65, 64, 65, 64, 64, 63, 64, 64, 65, 65, 63, 65, 64, 64, 65, 65, 65, 65, 63, 62, 63, 63, 62, 62, 62, 64, 63, 64, 64, 64, 64, 64, 65, 65, 66, 66, 66, 65, 65, 64, 65, 65, 64, 63, 65, 65, 64, 63, 64, 64, 64, 64, 65, 64, 64, 65, 64, 63, 64, 64, 64, 64, 64, 65, 64, 63, 63, 63, 64, 63, 64, 64, 63, 65, 64, 65, 65, 64, 64, 63, 63, 65, 66, 66, 66, 65, 64, 65, 64, 64, 64, 64, 66, 66, 64, 65, 65, 65, 65, 64, 64, 65, 65, 64, 63, 64, 64, 64, 64, 64, 64, 64, 65, 65, 63, 63, 63, 64, 64, 64, 64, 64, 62, 63, 62, 64, 63, 64, 63, 63, 63, 65, 65, 63, 63, 63, 63, \n",
    "]\n",
    "fluctuations = np.array(fluctuations)\n",
    "unique, counts = np.unique(fluctuations, return_counts=True)\n",
    "fluctuations.shape\n",
    "\n"
   ]
  },
  {
   "cell_type": "code",
   "execution_count": 34,
   "metadata": {},
   "outputs": [
    {
     "data": {
      "text/plain": [
       "(200,)"
      ]
     },
     "execution_count": 34,
     "metadata": {},
     "output_type": "execute_result"
    }
   ],
   "source": [
    "fluctuations = [256, 256, 257, 256, 256, 256, 256, 256, 257, 257, 256, 257, 255, 256, 254, 256, 255, 255, 256, 255, 257, 255, 256, 256, 257, 256, 257, 255, 256, 257, 256, 256, 257, 256, 256, 256, 256, 256, 256, 256, 256, 255, 258, 257, 256, 257, 256, 256, 256, 257, 257, 258, 256, 256, 255, 256, 255, 255, 256, 256, 258, 255, 258, 255, 256, 255, 256, 255, 257, 256, 256, 256, 256, 256, 256, 256, 257, 257, 257, 256, 256, 257, 255, 257, 256, 255, 255, 255, 257, 256, 255, 257, 256, 256, 256, 258, 256, 256, 257, 259, 256, 256, 255, 256, 256, 254, 254, 257, 256, 256, 257, 257, 256, 256, 257, 258, 257, 256, 256, 257, 256, 256, 257, 256, 254, 255, 254, 257, 257, 255, 257, 255, 256, 257, 256, 255, 257, 257, 256, 256, 257, 256, 257, 257, 257, 258, 256, 256, 256, 256, 256, 257, 257, 256, 255, 257, 257, 258, 256, 257, 256, 257, 256, 257, 256, 256, 256, 255, 257, 258, 256, 257, 255, 256, 256, 256, 257, 255, 256, 255, 255, 255, 255, 256, 256, 255, 258, 258, 255, 256, 257, 256, 255, 254, 255, 255, 255, 256, 255, 255, \n",
    "]\n",
    "\n",
    "fluctuations = np.array(fluctuations)\n",
    "unique, counts = np.unique(fluctuations, return_counts=True)\n",
    "fluctuations.shape\n"
   ]
  },
  {
   "cell_type": "code",
   "execution_count": 28,
   "metadata": {},
   "outputs": [],
   "source": [
    "mu = np.mean(fluctuations)\n",
    "sigma = np.sqrt(np.var(fluctuations))"
   ]
  },
  {
   "cell_type": "code",
   "execution_count": 29,
   "metadata": {},
   "outputs": [
    {
     "data": {
      "text/plain": [
       "NormaltestResult(statistic=1.7393463838310215, pvalue=0.41908848837613066)"
      ]
     },
     "execution_count": 29,
     "metadata": {},
     "output_type": "execute_result"
    }
   ],
   "source": [
    "mom = [stats.moment(fluctuations, i) for i in range(2, 10)]\n",
    "\n",
    "stats.normaltest(fluctuations)"
   ]
  },
  {
   "cell_type": "code",
   "execution_count": 30,
   "metadata": {},
   "outputs": [
    {
     "data": {
      "text/plain": [
       "0.9245590000000001"
      ]
     },
     "execution_count": 30,
     "metadata": {},
     "output_type": "execute_result"
    }
   ],
   "source": [
    "sigma**2"
   ]
  },
  {
   "cell_type": "code",
   "execution_count": 26,
   "metadata": {},
   "outputs": [
    {
     "data": {
      "text/plain": [
       "(array([ 6., 40., 92., 50., 12.]),\n",
       " array([254, 255, 256, 257, 258, 259]),\n",
       " <a list of 5 Patch objects>)"
      ]
     },
     "execution_count": 26,
     "metadata": {},
     "output_type": "execute_result"
    },
    {
     "data": {
      "image/png": "[encoded data removed]",
      "text/plain": [
       "<Figure size 432x288 with 1 Axes>"
      ]
     },
     "metadata": {
      "needs_background": "light"
     },
     "output_type": "display_data"
    }
   ],
   "source": [
    "plt.xlabel('The first Red node from bottom for x=0')\n",
    "plt.ylabel('num')\n",
    "\n",
    "x = np.linspace(mu - 3*sigma, mu + 3*sigma, 100)\n",
    "y = stats.norm.pdf(x, mu, sigma)\n",
    "y *= max(counts)/max(y)\n",
    "\n",
    "plt.plot(x, y)\n",
    "\n",
    "plt.hist(fluctuations, bins=list(range(min(fluctuations), max(fluctuations) + 1)), align=\"left\", rwidth=0.9)"
   ]
  },
  {
   "cell_type": "code",
   "execution_count": 54,
   "metadata": {},
   "outputs": [],
   "source": [
    "plt.show()"
   ]
  },
  {
   "cell_type": "code",
   "execution_count": 24,
   "metadata": {},
   "outputs": [
    {
     "data": {
      "text/plain": [
       "(1000,)"
      ]
     },
     "execution_count": 24,
     "metadata": {},
     "output_type": "execute_result"
    }
   ],
   "source": [
    "fluctuations.shape"
   ]
  },
  {
   "cell_type": "code",
   "execution_count": 14,
   "metadata": {},
   "outputs": [
    {
     "data": {
      "text/plain": [
       "1000.0"
      ]
     },
     "execution_count": 14,
     "metadata": {},
     "output_type": "execute_result"
    }
   ],
   "source": [
    "1000000/1000"
   ]
  },
  {
   "cell_type": "code",
   "execution_count": 35,
   "metadata": {},
   "outputs": [
    {
     "data": {
      "text/plain": [
       "1000000"
      ]
     },
     "execution_count": 35,
     "metadata": {},
     "output_type": "execute_result"
    }
   ],
   "source": [
    "200*5000"
   ]
  },
  {
   "cell_type": "code",
   "execution_count": 4,
   "metadata": {},
   "outputs": [],
   "source": [
    "corr = [0.75, 0.55, 0.5, 0.3, 0.2, 0.3, 0.1, -0.05, 0.15, 0.1, -0.1, 0.2, 0.4, 0.4, 0.35, 0.2, 0.05, -0.15, -0.05, -0.5, -0.45, -0.1, -0.1, -0.2, -0.2, -0.2, 0, -0.05, -0.15, 0.05, -0.05, -0.05, 0.1, 1.38778e-17, 0.05, -0.05, 0.05, 0.2, -0.1, 0.05, -0.2, 0.25, 0.05, -0.05, 0.15, 0.4, 0.35, 0.25, 0.15, 0.2, 0.15, 0.35, 0.35, 0.5, 0.6, 0.4, 0.2, 0.3, 0.3, 0.35, 0.4, 0.45, 0.35, 0.4, 0.35, 0.45, 0.3, 0.4, 0.25, 0.45, 0.25, 0.5, 0.3, 0.25, 0.2, 0.25, 0.1, 0.25, 0.15, 0.4, 0.05, 0.1, -0.05, 0.1, -0.1, 0, -0.2, 0.05, -0.05, -0.3, -0.1, -0.2, -0.35, -0.1, -0.3, -0.15, 0.1, -0.15, -0.15, -0.05, -0.15, 0.25, 0.35, 0.3, -0.05, 0.35, 0.35, 0.15, 0.2, 0.25, -0.1, 0.25, 0.35, 0.3, -0.05, 0.35, 0.05, 0.05, 0.2, -0.15, 0.4, 0.35, 0.2, 0.25, 0.45, 0.2, 0.15, 0.4, 0.2, 0.2, 0.2, 0.4, 0.45, 0.4, 0.4, 0.1, -0.05, 0.15, -0.15, 0, -0.05, -5.55112e-17, 0.05, -0.05, 0.15, -1.38778e-17, 0.25, 0.05, 0.25, 0.2, 0.25, 0.35, 0.05, 0.15, 0.2, 0.25, 0.2, -0.15, 0.15, 0.1, 0.1, 0.1, 0, -0.1, 0.2, 0.1, 1.38778e-17, 0.1, -0.15, -0.2, -0.15, 0.05, -0.35, -0.3, -0.55, -0.3, -0.3, 0.2, -0.1, 0.05, 0.05, 0, 0.15, 0, 0.2, 0.2, 0.15, 0.05, 0.1, 0.1, 0.15, -0.05, -0.15, -0.25, -0.35, -0.15, -0.2, -0.2, -0.15, -0.2, -0.05, -0.05, 0.1, -0.2, -0.2, 0, -0.15, -0.2, -0.35, -0.25, -0.4, -0.3, -0.25, -0.35, -0.15, -0.05, -0.5, -0.15, 1.38778e-17, 0.15, 0, -0.1, -0.05, -0.15, -0.55, -0.6, -0.4, -0.5, -0.5, -0.25, -0.35, -0.45, -0.15, -0.3, -0.25, -0.25, -0.1, -0.25, 0.05, 0.15, -0.1, 0.2, 0.1, 1.38778e-17, 0.1, 0.1, 0, 0.05, -0.1, -0.1, -0.1, 0, -0.15, -0.15, -0.25, -0.1, -0.1, -0.2, -0.35, -0.35, -0.25, -0.15, -0.25, -0.15, -0.25, 0.1, 0.15, -0.1, -0.2, -0.1, -0.3, -0.1, 0, 0.1, -0.05, -0.1, -0.15, 0.05, 0.35, -0.25, -0.1, -0.25, -0.15, -0.1, 0.05, -0.1, -0.05, -0.15, -0.05, -0.15, -0.25, -0.4, -0.3, -0.35, -0.2, -0.25, -0.2, -0.1, -0.1, 0.15, 0.15, 0, -0.3, 0, 0.05, 0.2, 0.2, 0.25, 0.05, 0.1, -0.2, 0.2, 0.15, 0.3, 0.1, 0.05, 0.2, 0, -0.05, 0.15, 0.25, 0.05, 0.1, 0.1, 0.2, -0.05, -0.25, -0.05, 0.15, 0.2, 0.25, 0.1, 0, 0.15, 0.25, 0.05, 0.15, 0.25, -1.38778e-17, 0.1, -0.1, 0.25, 0.3, 0.05, 0, -0.05, 0.3, 0.4, 0.05, 0.2, 0.05, 0.2, 0, 0.1, -0.05, 0.1, 0.45, 0.25, 0.25, 0.05, -1.38778e-17, -0.05, 0.2, -0.05, -1.38778e-17, -0.1, 0.1, 0.1, 0.25, 0.15, 0.2, 0.15, 0.3, 0.25, 0.1, 0.3, 0.15, 0.1, 0.3, 0.35, 0.5, 0.3, 0.3, -0.15, -0.05, 0.15, 0.1, 0.35, 0.4, 0.2, 0.3, 0.15, 0, 0.15, 0.15, 0.15, -0.15, 0, -0.2, -0.45, -0.35, -0.25, -0.1, -0.3, -0.15, -0.1, -0.3, -0.05, -0.35, -0.2, 0.15, -0.1, -0.15, -0.25, -0.2, -0.45, -0.35, -0.4, -0.4, -0.25, -0.45, -0.4, -0.3, -0.1, -0.25, -0.25, -0.4, -0.25, -0.2, -0.4, -0.1, -0.25, -0.15, -0.05, 0.2, -0.1, -0.05, -0.05, 1.38778e-17, 0.05, 0.05, -0.1, -0.15, -0.4, -0.4, -0.35, -0.35, -0.15, -0.15, 0.05, -1.38778e-17, -0.15, -0.3, -0.35, -0.05, 0, -0.2, -0.15, -0.15, -0.2, -0.2, -0.4, -0.4, -0.4, -0.3, -0.55, -0.25, -0.4, -0.15, -0.15, -0.2, -0.15, 1.38778e-17, -0.2, -0.15, 0.05, -0.4, -0.1, -0.25, -0.25, -0.15, -0.15, -0.25, -0.25, 0.15, 0.15, 0.05, 0.15, 0.1, 0, -0.25, -0.05, -0.05, -0.25, 0.05, 0.05, 0.4, 0.15, -0.05, -0.05, -0.1, -0.05, -0.05, -0.15, 0.05, 0.05, 0.1, 0, -1.38778e-17, 0.15, 0.1, 0.5, \n",
    "]\n"
   ]
  },
  {
   "cell_type": "code",
   "execution_count": 8,
   "metadata": {},
   "outputs": [
    {
     "name": "stdout",
     "output_type": "stream",
     "text": [
      "0.75\n"
     ]
    }
   ],
   "source": []
  },
  {
   "cell_type": "code",
   "execution_count": 14,
   "metadata": {},
   "outputs": [
    {
     "ename": "ValueError",
     "evalue": "x and y must have same first dimension, but have shapes (513,) and (512,)",
     "output_type": "error",
     "traceback": [
      "\u001b[0;31m---------------------------------------------------------------------------\u001b[0m",
      "\u001b[0;31mValueError\u001b[0m                                Traceback (most recent call last)",
      "\u001b[0;32m<ipython-input-14-018a3eac5c83>\u001b[0m in \u001b[0;36m<module>\u001b[0;34m\u001b[0m\n\u001b[0;32m----> 1\u001b[0;31m \u001b[0mplt\u001b[0m\u001b[0;34m.\u001b[0m\u001b[0mplot\u001b[0m\u001b[0;34m(\u001b[0m\u001b[0mlist\u001b[0m\u001b[0;34m(\u001b[0m\u001b[0mrange\u001b[0m\u001b[0;34m(\u001b[0m\u001b[0;36m0\u001b[0m\u001b[0;34m,\u001b[0m \u001b[0mlen\u001b[0m\u001b[0;34m(\u001b[0m\u001b[0mcorr\u001b[0m\u001b[0;34m)\u001b[0m \u001b[0;34m+\u001b[0m \u001b[0;36m1\u001b[0m\u001b[0;34m)\u001b[0m\u001b[0;34m)\u001b[0m\u001b[0;34m,\u001b[0m \u001b[0mcorr\u001b[0m\u001b[0;34m)\u001b[0m\u001b[0;34m\u001b[0m\u001b[0;34m\u001b[0m\u001b[0m\n\u001b[0m",
      "\u001b[0;32m~/miniconda3/lib/python3.6/site-packages/matplotlib/pyplot.py\u001b[0m in \u001b[0;36mplot\u001b[0;34m(scalex, scaley, data, *args, **kwargs)\u001b[0m\n\u001b[1;32m   2747\u001b[0m \u001b[0;32mdef\u001b[0m \u001b[0mplot\u001b[0m\u001b[0;34m(\u001b[0m\u001b[0;34m*\u001b[0m\u001b[0margs\u001b[0m\u001b[0;34m,\u001b[0m \u001b[0mscalex\u001b[0m\u001b[0;34m=\u001b[0m\u001b[0;32mTrue\u001b[0m\u001b[0;34m,\u001b[0m \u001b[0mscaley\u001b[0m\u001b[0;34m=\u001b[0m\u001b[0;32mTrue\u001b[0m\u001b[0;34m,\u001b[0m \u001b[0mdata\u001b[0m\u001b[0;34m=\u001b[0m\u001b[0;32mNone\u001b[0m\u001b[0;34m,\u001b[0m \u001b[0;34m**\u001b[0m\u001b[0mkwargs\u001b[0m\u001b[0;34m)\u001b[0m\u001b[0;34m:\u001b[0m\u001b[0;34m\u001b[0m\u001b[0;34m\u001b[0m\u001b[0m\n\u001b[1;32m   2748\u001b[0m     return gca().plot(\n\u001b[0;32m-> 2749\u001b[0;31m         *args, scalex=scalex, scaley=scaley, data=data, **kwargs)\n\u001b[0m\u001b[1;32m   2750\u001b[0m \u001b[0;34m\u001b[0m\u001b[0m\n\u001b[1;32m   2751\u001b[0m \u001b[0;31m# Autogenerated by boilerplate.py.  Do not edit as changes will be lost.\u001b[0m\u001b[0;34m\u001b[0m\u001b[0;34m\u001b[0m\u001b[0;34m\u001b[0m\u001b[0m\n",
      "\u001b[0;32m~/miniconda3/lib/python3.6/site-packages/matplotlib/__init__.py\u001b[0m in \u001b[0;36minner\u001b[0;34m(ax, data, *args, **kwargs)\u001b[0m\n\u001b[1;32m   1783\u001b[0m                         \u001b[0;34m\"the Matplotlib list!)\"\u001b[0m \u001b[0;34m%\u001b[0m \u001b[0;34m(\u001b[0m\u001b[0mlabel_namer\u001b[0m\u001b[0;34m,\u001b[0m \u001b[0mfunc\u001b[0m\u001b[0;34m.\u001b[0m\u001b[0m__name__\u001b[0m\u001b[0;34m)\u001b[0m\u001b[0;34m,\u001b[0m\u001b[0;34m\u001b[0m\u001b[0;34m\u001b[0m\u001b[0m\n\u001b[1;32m   1784\u001b[0m                         RuntimeWarning, stacklevel=2)\n\u001b[0;32m-> 1785\u001b[0;31m             \u001b[0;32mreturn\u001b[0m \u001b[0mfunc\u001b[0m\u001b[0;34m(\u001b[0m\u001b[0max\u001b[0m\u001b[0;34m,\u001b[0m \u001b[0;34m*\u001b[0m\u001b[0margs\u001b[0m\u001b[0;34m,\u001b[0m \u001b[0;34m**\u001b[0m\u001b[0mkwargs\u001b[0m\u001b[0;34m)\u001b[0m\u001b[0;34m\u001b[0m\u001b[0;34m\u001b[0m\u001b[0m\n\u001b[0m\u001b[1;32m   1786\u001b[0m \u001b[0;34m\u001b[0m\u001b[0m\n\u001b[1;32m   1787\u001b[0m         inner.__doc__ = _add_data_doc(inner.__doc__,\n",
      "\u001b[0;32m~/miniconda3/lib/python3.6/site-packages/matplotlib/axes/_axes.py\u001b[0m in \u001b[0;36mplot\u001b[0;34m(self, scalex, scaley, *args, **kwargs)\u001b[0m\n\u001b[1;32m   1602\u001b[0m         \u001b[0mkwargs\u001b[0m \u001b[0;34m=\u001b[0m \u001b[0mcbook\u001b[0m\u001b[0;34m.\u001b[0m\u001b[0mnormalize_kwargs\u001b[0m\u001b[0;34m(\u001b[0m\u001b[0mkwargs\u001b[0m\u001b[0;34m,\u001b[0m \u001b[0mmlines\u001b[0m\u001b[0;34m.\u001b[0m\u001b[0mLine2D\u001b[0m\u001b[0;34m.\u001b[0m\u001b[0m_alias_map\u001b[0m\u001b[0;34m)\u001b[0m\u001b[0;34m\u001b[0m\u001b[0;34m\u001b[0m\u001b[0m\n\u001b[1;32m   1603\u001b[0m \u001b[0;34m\u001b[0m\u001b[0m\n\u001b[0;32m-> 1604\u001b[0;31m         \u001b[0;32mfor\u001b[0m \u001b[0mline\u001b[0m \u001b[0;32min\u001b[0m \u001b[0mself\u001b[0m\u001b[0;34m.\u001b[0m\u001b[0m_get_lines\u001b[0m\u001b[0;34m(\u001b[0m\u001b[0;34m*\u001b[0m\u001b[0margs\u001b[0m\u001b[0;34m,\u001b[0m \u001b[0;34m**\u001b[0m\u001b[0mkwargs\u001b[0m\u001b[0;34m)\u001b[0m\u001b[0;34m:\u001b[0m\u001b[0;34m\u001b[0m\u001b[0;34m\u001b[0m\u001b[0m\n\u001b[0m\u001b[1;32m   1605\u001b[0m             \u001b[0mself\u001b[0m\u001b[0;34m.\u001b[0m\u001b[0madd_line\u001b[0m\u001b[0;34m(\u001b[0m\u001b[0mline\u001b[0m\u001b[0;34m)\u001b[0m\u001b[0;34m\u001b[0m\u001b[0;34m\u001b[0m\u001b[0m\n\u001b[1;32m   1606\u001b[0m             \u001b[0mlines\u001b[0m\u001b[0;34m.\u001b[0m\u001b[0mappend\u001b[0m\u001b[0;34m(\u001b[0m\u001b[0mline\u001b[0m\u001b[0;34m)\u001b[0m\u001b[0;34m\u001b[0m\u001b[0;34m\u001b[0m\u001b[0m\n",
      "\u001b[0;32m~/miniconda3/lib/python3.6/site-packages/matplotlib/axes/_base.py\u001b[0m in \u001b[0;36m_grab_next_args\u001b[0;34m(self, *args, **kwargs)\u001b[0m\n\u001b[1;32m    391\u001b[0m                 \u001b[0mthis\u001b[0m \u001b[0;34m+=\u001b[0m \u001b[0margs\u001b[0m\u001b[0;34m[\u001b[0m\u001b[0;36m0\u001b[0m\u001b[0;34m]\u001b[0m\u001b[0;34m,\u001b[0m\u001b[0;34m\u001b[0m\u001b[0;34m\u001b[0m\u001b[0m\n\u001b[1;32m    392\u001b[0m                 \u001b[0margs\u001b[0m \u001b[0;34m=\u001b[0m \u001b[0margs\u001b[0m\u001b[0;34m[\u001b[0m\u001b[0;36m1\u001b[0m\u001b[0;34m:\u001b[0m\u001b[0;34m]\u001b[0m\u001b[0;34m\u001b[0m\u001b[0;34m\u001b[0m\u001b[0m\n\u001b[0;32m--> 393\u001b[0;31m             \u001b[0;32myield\u001b[0m \u001b[0;32mfrom\u001b[0m \u001b[0mself\u001b[0m\u001b[0;34m.\u001b[0m\u001b[0m_plot_args\u001b[0m\u001b[0;34m(\u001b[0m\u001b[0mthis\u001b[0m\u001b[0;34m,\u001b[0m \u001b[0mkwargs\u001b[0m\u001b[0;34m)\u001b[0m\u001b[0;34m\u001b[0m\u001b[0;34m\u001b[0m\u001b[0m\n\u001b[0m\u001b[1;32m    394\u001b[0m \u001b[0;34m\u001b[0m\u001b[0m\n\u001b[1;32m    395\u001b[0m \u001b[0;34m\u001b[0m\u001b[0m\n",
      "\u001b[0;32m~/miniconda3/lib/python3.6/site-packages/matplotlib/axes/_base.py\u001b[0m in \u001b[0;36m_plot_args\u001b[0;34m(self, tup, kwargs)\u001b[0m\n\u001b[1;32m    368\u001b[0m             \u001b[0mx\u001b[0m\u001b[0;34m,\u001b[0m \u001b[0my\u001b[0m \u001b[0;34m=\u001b[0m \u001b[0mindex_of\u001b[0m\u001b[0;34m(\u001b[0m\u001b[0mtup\u001b[0m\u001b[0;34m[\u001b[0m\u001b[0;34m-\u001b[0m\u001b[0;36m1\u001b[0m\u001b[0;34m]\u001b[0m\u001b[0;34m)\u001b[0m\u001b[0;34m\u001b[0m\u001b[0;34m\u001b[0m\u001b[0m\n\u001b[1;32m    369\u001b[0m \u001b[0;34m\u001b[0m\u001b[0m\n\u001b[0;32m--> 370\u001b[0;31m         \u001b[0mx\u001b[0m\u001b[0;34m,\u001b[0m \u001b[0my\u001b[0m \u001b[0;34m=\u001b[0m \u001b[0mself\u001b[0m\u001b[0;34m.\u001b[0m\u001b[0m_xy_from_xy\u001b[0m\u001b[0;34m(\u001b[0m\u001b[0mx\u001b[0m\u001b[0;34m,\u001b[0m \u001b[0my\u001b[0m\u001b[0;34m)\u001b[0m\u001b[0;34m\u001b[0m\u001b[0;34m\u001b[0m\u001b[0m\n\u001b[0m\u001b[1;32m    371\u001b[0m \u001b[0;34m\u001b[0m\u001b[0m\n\u001b[1;32m    372\u001b[0m         \u001b[0;32mif\u001b[0m \u001b[0mself\u001b[0m\u001b[0;34m.\u001b[0m\u001b[0mcommand\u001b[0m \u001b[0;34m==\u001b[0m \u001b[0;34m'plot'\u001b[0m\u001b[0;34m:\u001b[0m\u001b[0;34m\u001b[0m\u001b[0;34m\u001b[0m\u001b[0m\n",
      "\u001b[0;32m~/miniconda3/lib/python3.6/site-packages/matplotlib/axes/_base.py\u001b[0m in \u001b[0;36m_xy_from_xy\u001b[0;34m(self, x, y)\u001b[0m\n\u001b[1;32m    229\u001b[0m         \u001b[0;32mif\u001b[0m \u001b[0mx\u001b[0m\u001b[0;34m.\u001b[0m\u001b[0mshape\u001b[0m\u001b[0;34m[\u001b[0m\u001b[0;36m0\u001b[0m\u001b[0;34m]\u001b[0m \u001b[0;34m!=\u001b[0m \u001b[0my\u001b[0m\u001b[0;34m.\u001b[0m\u001b[0mshape\u001b[0m\u001b[0;34m[\u001b[0m\u001b[0;36m0\u001b[0m\u001b[0;34m]\u001b[0m\u001b[0;34m:\u001b[0m\u001b[0;34m\u001b[0m\u001b[0;34m\u001b[0m\u001b[0m\n\u001b[1;32m    230\u001b[0m             raise ValueError(\"x and y must have same first dimension, but \"\n\u001b[0;32m--> 231\u001b[0;31m                              \"have shapes {} and {}\".format(x.shape, y.shape))\n\u001b[0m\u001b[1;32m    232\u001b[0m         \u001b[0;32mif\u001b[0m \u001b[0mx\u001b[0m\u001b[0;34m.\u001b[0m\u001b[0mndim\u001b[0m \u001b[0;34m>\u001b[0m \u001b[0;36m2\u001b[0m \u001b[0;32mor\u001b[0m \u001b[0my\u001b[0m\u001b[0;34m.\u001b[0m\u001b[0mndim\u001b[0m \u001b[0;34m>\u001b[0m \u001b[0;36m2\u001b[0m\u001b[0;34m:\u001b[0m\u001b[0;34m\u001b[0m\u001b[0;34m\u001b[0m\u001b[0m\n\u001b[1;32m    233\u001b[0m             raise ValueError(\"x and y can be no greater than 2-D, but have \"\n",
      "\u001b[0;31mValueError\u001b[0m: x and y must have same first dimension, but have shapes (513,) and (512,)"
     ]
    },
    {
     "data": {
      "image/png": "[encoded data removed]",
      "text/plain": [
       "<Figure size 432x288 with 1 Axes>"
      ]
     },
     "metadata": {
      "needs_background": "light"
     },
     "output_type": "display_data"
    }
   ],
   "source": [
    "plt.plot(list(range(0, len(corr) + 1)), corr)"
   ]
  },
  {
   "cell_type": "code",
   "execution_count": null,
   "metadata": {},
   "outputs": [],
   "source": []
  }
 ],
 "metadata": {
  "kernelspec": {
   "display_name": "Python 3",
   "language": "python",
   "name": "python3"
  },
  "language_info": {
   "codemirror_mode": {
    "name": "ipython",
    "version": 3
   },
   "file_extension": ".py",
   "mimetype": "text/x-python",
   "name": "python",
   "nbconvert_exporter": "python",
   "pygments_lexer": "ipython3",
   "version": "3.6.8"
  }
 },
 "nbformat": 4,
 "nbformat_minor": 2
}
